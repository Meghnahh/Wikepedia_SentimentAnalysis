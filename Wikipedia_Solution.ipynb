{
  "nbformat": 4,
  "nbformat_minor": 0,
  "metadata": {
    "kernelspec": {
      "name": "python3",
      "display_name": "Python 3"
    },
    "language_info": {
      "codemirror_mode": {
        "name": "ipython",
        "version": 3
      },
      "file_extension": ".py",
      "mimetype": "text/x-python",
      "name": "python",
      "nbconvert_exporter": "python",
      "pygments_lexer": "ipython3",
      "version": "3.5.2"
    },
    "colab": {
      "name": "Wikipedia Solution.ipynb",
      "provenance": [],
      "collapsed_sections": []
    },
    "accelerator": "GPU"
  },
  "cells": [
    {
      "cell_type": "code",
      "metadata": {
        "id": "GfiVR8PzKMQe"
      },
      "source": [
        "import numpy as np\n",
        "import pandas as pd"
      ],
      "execution_count": 473,
      "outputs": []
    },
    {
      "cell_type": "code",
      "metadata": {
        "id": "5K8RSBNXKMQn"
      },
      "source": [
        "df = pd.read_csv('train.csv')"
      ],
      "execution_count": 474,
      "outputs": []
    },
    {
      "cell_type": "code",
      "metadata": {
        "id": "P7Ds7i3TUGCr",
        "colab": {
          "base_uri": "https://localhost:8080/"
        },
        "outputId": "efe99b95-deb4-4111-8d08-9521498ef7e4"
      },
      "source": [
        "df.shape"
      ],
      "execution_count": 475,
      "outputs": [
        {
          "output_type": "execute_result",
          "data": {
            "text/plain": [
              "(5000, 3)"
            ]
          },
          "metadata": {
            "tags": []
          },
          "execution_count": 475
        }
      ]
    },
    {
      "cell_type": "code",
      "metadata": {
        "id": "lXwe99hqULiJ",
        "colab": {
          "base_uri": "https://localhost:8080/",
          "height": 203
        },
        "outputId": "8b71e9d7-aee4-4ad2-a43f-ba0da6962fd6"
      },
      "source": [
        "df.head()"
      ],
      "execution_count": 476,
      "outputs": [
        {
          "output_type": "execute_result",
          "data": {
            "text/html": [
              "<div>\n",
              "<style scoped>\n",
              "    .dataframe tbody tr th:only-of-type {\n",
              "        vertical-align: middle;\n",
              "    }\n",
              "\n",
              "    .dataframe tbody tr th {\n",
              "        vertical-align: top;\n",
              "    }\n",
              "\n",
              "    .dataframe thead th {\n",
              "        text-align: right;\n",
              "    }\n",
              "</style>\n",
              "<table border=\"1\" class=\"dataframe\">\n",
              "  <thead>\n",
              "    <tr style=\"text-align: right;\">\n",
              "      <th></th>\n",
              "      <th>id</th>\n",
              "      <th>comment_text</th>\n",
              "      <th>toxic</th>\n",
              "    </tr>\n",
              "  </thead>\n",
              "  <tbody>\n",
              "    <tr>\n",
              "      <th>0</th>\n",
              "      <td>e617e2489abe9bca</td>\n",
              "      <td>\"\\r\\n\\r\\n A barnstar for you! \\r\\n\\r\\n  The De...</td>\n",
              "      <td>0</td>\n",
              "    </tr>\n",
              "    <tr>\n",
              "      <th>1</th>\n",
              "      <td>9250cf637294e09d</td>\n",
              "      <td>\"\\r\\n\\r\\nThis seems unbalanced.  whatever I ha...</td>\n",
              "      <td>0</td>\n",
              "    </tr>\n",
              "    <tr>\n",
              "      <th>2</th>\n",
              "      <td>ce1aa4592d5240ca</td>\n",
              "      <td>Marya Dzmitruk was born in Minsk, Belarus in M...</td>\n",
              "      <td>0</td>\n",
              "    </tr>\n",
              "    <tr>\n",
              "      <th>3</th>\n",
              "      <td>48105766ff7f075b</td>\n",
              "      <td>\"\\r\\n\\r\\nTalkback\\r\\n\\r\\n Dear Celestia...  \"</td>\n",
              "      <td>0</td>\n",
              "    </tr>\n",
              "    <tr>\n",
              "      <th>4</th>\n",
              "      <td>0543d4f82e5470b6</td>\n",
              "      <td>New Categories \\r\\n\\r\\nI honestly think that w...</td>\n",
              "      <td>0</td>\n",
              "    </tr>\n",
              "  </tbody>\n",
              "</table>\n",
              "</div>"
            ],
            "text/plain": [
              "                 id                                       comment_text  toxic\n",
              "0  e617e2489abe9bca  \"\\r\\n\\r\\n A barnstar for you! \\r\\n\\r\\n  The De...      0\n",
              "1  9250cf637294e09d  \"\\r\\n\\r\\nThis seems unbalanced.  whatever I ha...      0\n",
              "2  ce1aa4592d5240ca  Marya Dzmitruk was born in Minsk, Belarus in M...      0\n",
              "3  48105766ff7f075b      \"\\r\\n\\r\\nTalkback\\r\\n\\r\\n Dear Celestia...  \"      0\n",
              "4  0543d4f82e5470b6  New Categories \\r\\n\\r\\nI honestly think that w...      0"
            ]
          },
          "metadata": {
            "tags": []
          },
          "execution_count": 476
        }
      ]
    },
    {
      "cell_type": "code",
      "metadata": {
        "id": "4dJNslX_XKg4"
      },
      "source": [
        "df = df.drop('id',axis=1)"
      ],
      "execution_count": 477,
      "outputs": []
    },
    {
      "cell_type": "markdown",
      "metadata": {
        "id": "45uxRF4rKMQq"
      },
      "source": [
        "Split Data into Training and Test Data"
      ]
    },
    {
      "cell_type": "code",
      "metadata": {
        "id": "cwNZ5XEpKMQq"
      },
      "source": [
        "from sklearn.model_selection import train_test_split"
      ],
      "execution_count": 478,
      "outputs": []
    },
    {
      "cell_type": "code",
      "metadata": {
        "id": "q-RNaPq2KMQt"
      },
      "source": [
        "X_train, X_test, y_train, y_test = train_test_split(\n",
        "    df['comment_text'],\n",
        "    df['toxic'],\n",
        "    test_size=0.2, \n",
        "    random_state=42\n",
        ")"
      ],
      "execution_count": 479,
      "outputs": []
    },
    {
      "cell_type": "code",
      "metadata": {
        "colab": {
          "base_uri": "https://localhost:8080/"
        },
        "id": "IMhDLKugjwct",
        "outputId": "d04dc040-9f06-4f6e-e7d4-4cdb7e18a03c"
      },
      "source": [
        "X_train.shape"
      ],
      "execution_count": 480,
      "outputs": [
        {
          "output_type": "execute_result",
          "data": {
            "text/plain": [
              "(4000,)"
            ]
          },
          "metadata": {
            "tags": []
          },
          "execution_count": 480
        }
      ]
    },
    {
      "cell_type": "code",
      "metadata": {
        "colab": {
          "base_uri": "https://localhost:8080/"
        },
        "id": "5W8YyM-njyvg",
        "outputId": "9872c9aa-9bbc-4c60-c0b5-f724260f6621"
      },
      "source": [
        "X_test.shape"
      ],
      "execution_count": 481,
      "outputs": [
        {
          "output_type": "execute_result",
          "data": {
            "text/plain": [
              "(1000,)"
            ]
          },
          "metadata": {
            "tags": []
          },
          "execution_count": 481
        }
      ]
    },
    {
      "cell_type": "markdown",
      "metadata": {
        "id": "40sSeDoWKMQx"
      },
      "source": [
        "# Build the Tokenizer"
      ]
    },
    {
      "cell_type": "code",
      "metadata": {
        "id": "AGM55RRUM3fN"
      },
      "source": [
        "import tensorflow as tf"
      ],
      "execution_count": 482,
      "outputs": []
    },
    {
      "cell_type": "code",
      "metadata": {
        "id": "LNB6T0EVKMQ6"
      },
      "source": [
        "top_words = 10000 #Vocablury size\n",
        "t = tf.keras.preprocessing.text.Tokenizer(num_words=top_words) # num_words -> Vocablury size"
      ],
      "execution_count": 483,
      "outputs": []
    },
    {
      "cell_type": "code",
      "metadata": {
        "id": "t65mfe_2KMQ8"
      },
      "source": [
        "#Fit tokenizer with actual training data\n",
        "t.fit_on_texts(X_train.tolist())"
      ],
      "execution_count": 484,
      "outputs": []
    },
    {
      "cell_type": "code",
      "metadata": {
        "id": "6N7cgYEvVGzB",
        "colab": {
          "base_uri": "https://localhost:8080/"
        },
        "outputId": "eed9d818-5b89-4d5a-f636-c9276b4e7b63"
      },
      "source": [
        "#Vocabulary\n",
        "t.word_index"
      ],
      "execution_count": 485,
      "outputs": [
        {
          "output_type": "execute_result",
          "data": {
            "text/plain": [
              "{'the': 1,\n",
              " '\\r': 2,\n",
              " 'to': 3,\n",
              " 'i': 4,\n",
              " 'you': 5,\n",
              " 'of': 6,\n",
              " 'a': 7,\n",
              " 'and': 8,\n",
              " 'is': 9,\n",
              " 'in': 10,\n",
              " 'that': 11,\n",
              " 'it': 12,\n",
              " 'for': 13,\n",
              " 'this': 14,\n",
              " 'on': 15,\n",
              " 'not': 16,\n",
              " 'be': 17,\n",
              " 'as': 18,\n",
              " 'are': 19,\n",
              " 'have': 20,\n",
              " 'your': 21,\n",
              " 'if': 22,\n",
              " 'was': 23,\n",
              " 'with': 24,\n",
              " 'or': 25,\n",
              " 'article': 26,\n",
              " 'but': 27,\n",
              " 'my': 28,\n",
              " 'page': 29,\n",
              " 'wikipedia': 30,\n",
              " 'an': 31,\n",
              " 'by': 32,\n",
              " 'do': 33,\n",
              " 'at': 34,\n",
              " 'talk': 35,\n",
              " 'from': 36,\n",
              " 'ass': 37,\n",
              " 'so': 38,\n",
              " 'about': 39,\n",
              " 'me': 40,\n",
              " 'fuck': 41,\n",
              " 'can': 42,\n",
              " 'please': 43,\n",
              " 'there': 44,\n",
              " 'what': 45,\n",
              " 'would': 46,\n",
              " 'has': 47,\n",
              " 'all': 48,\n",
              " 'no': 49,\n",
              " 'will': 50,\n",
              " 'one': 51,\n",
              " 'he': 52,\n",
              " 'just': 53,\n",
              " 'like': 54,\n",
              " 'they': 55,\n",
              " 'been': 56,\n",
              " 'should': 57,\n",
              " 'any': 58,\n",
              " 'which': 59,\n",
              " \"don't\": 60,\n",
              " 'am': 61,\n",
              " 'more': 62,\n",
              " 'some': 63,\n",
              " 'we': 64,\n",
              " 'here': 65,\n",
              " 'also': 66,\n",
              " 'his': 67,\n",
              " 'think': 68,\n",
              " 'who': 69,\n",
              " 'know': 70,\n",
              " 'name': 71,\n",
              " 'see': 72,\n",
              " 'other': 73,\n",
              " 'edit': 74,\n",
              " 'why': 75,\n",
              " 'how': 76,\n",
              " 'use': 77,\n",
              " 'may': 78,\n",
              " 'when': 79,\n",
              " 'up': 80,\n",
              " 'only': 81,\n",
              " \"i'm\": 82,\n",
              " 'then': 83,\n",
              " \"it's\": 84,\n",
              " 'off': 85,\n",
              " 'did': 86,\n",
              " 'because': 87,\n",
              " 'were': 88,\n",
              " 'people': 89,\n",
              " 'out': 90,\n",
              " 'articles': 91,\n",
              " 'time': 92,\n",
              " 'than': 93,\n",
              " 'suck': 94,\n",
              " 'being': 95,\n",
              " 'them': 96,\n",
              " 'mexicans': 97,\n",
              " 'thanks': 98,\n",
              " 'had': 99,\n",
              " 'user': 100,\n",
              " 'does': 101,\n",
              " 'their': 102,\n",
              " 'deletion': 103,\n",
              " 'now': 104,\n",
              " 'even': 105,\n",
              " 'make': 106,\n",
              " 'very': 107,\n",
              " 'well': 108,\n",
              " 'good': 109,\n",
              " 'information': 110,\n",
              " 'its': 111,\n",
              " 'editing': 112,\n",
              " 'get': 113,\n",
              " 'wp': 114,\n",
              " 'could': 115,\n",
              " 'image': 116,\n",
              " 'such': 117,\n",
              " 'edits': 118,\n",
              " 'want': 119,\n",
              " 'help': 120,\n",
              " 'first': 121,\n",
              " 'thank': 122,\n",
              " 'again': 123,\n",
              " 'pages': 124,\n",
              " 'way': 125,\n",
              " 'new': 126,\n",
              " 'where': 127,\n",
              " 'need': 128,\n",
              " 'these': 129,\n",
              " 'really': 130,\n",
              " 'say': 131,\n",
              " 'used': 132,\n",
              " 'ytmnd': 133,\n",
              " 'many': 134,\n",
              " 'most': 135,\n",
              " 'deleted': 136,\n",
              " 'source': 137,\n",
              " 'sources': 138,\n",
              " 'gay': 139,\n",
              " 'go': 140,\n",
              " 'find': 141,\n",
              " 'work': 142,\n",
              " 'since': 143,\n",
              " 'into': 144,\n",
              " 'after': 145,\n",
              " 'same': 146,\n",
              " 'made': 147,\n",
              " 'read': 148,\n",
              " 'before': 149,\n",
              " \"i've\": 150,\n",
              " 'section': 151,\n",
              " 'take': 152,\n",
              " 'right': 153,\n",
              " 'discussion': 154,\n",
              " 'look': 155,\n",
              " 'under': 156,\n",
              " 'those': 157,\n",
              " 'still': 158,\n",
              " 'point': 159,\n",
              " 'add': 160,\n",
              " 'wiki': 161,\n",
              " 'fact': 162,\n",
              " 'own': 163,\n",
              " 'her': 164,\n",
              " 'utc': 165,\n",
              " \"you're\": 166,\n",
              " 'link': 167,\n",
              " 'much': 168,\n",
              " 'feel': 169,\n",
              " 'over': 170,\n",
              " 'too': 171,\n",
              " 'list': 172,\n",
              " 'him': 173,\n",
              " 'two': 174,\n",
              " 'fucking': 175,\n",
              " 'someone': 176,\n",
              " 'free': 177,\n",
              " 'blocked': 178,\n",
              " 'back': 179,\n",
              " 'our': 180,\n",
              " 'something': 181,\n",
              " 'content': 182,\n",
              " 'sure': 183,\n",
              " 'editors': 184,\n",
              " 'note': 185,\n",
              " 'links': 186,\n",
              " \"doesn't\": 187,\n",
              " 'stop': 188,\n",
              " 'case': 189,\n",
              " 'said': 190,\n",
              " 'block': 191,\n",
              " 'removed': 192,\n",
              " 'history': 193,\n",
              " 'without': 194,\n",
              " 'going': 195,\n",
              " 'reason': 196,\n",
              " 'speedy': 197,\n",
              " 'welcome': 198,\n",
              " 'never': 199,\n",
              " 'comment': 200,\n",
              " 'personal': 201,\n",
              " 'policy': 202,\n",
              " 'questions': 203,\n",
              " '2': 204,\n",
              " 'ask': 205,\n",
              " 'however': 206,\n",
              " 'added': 207,\n",
              " 'might': 208,\n",
              " 'put': 209,\n",
              " 'subject': 210,\n",
              " 'person': 211,\n",
              " \"that's\": 212,\n",
              " 'she': 213,\n",
              " 'tag': 214,\n",
              " 'against': 215,\n",
              " 'question': 216,\n",
              " 'remove': 217,\n",
              " 'vandalism': 218,\n",
              " 'place': 219,\n",
              " 'another': 220,\n",
              " 'keep': 221,\n",
              " 'done': 222,\n",
              " 'better': 223,\n",
              " 'above': 224,\n",
              " 'thing': 225,\n",
              " '•': 226,\n",
              " 'actually': 227,\n",
              " 'things': 228,\n",
              " '1': 229,\n",
              " 'using': 230,\n",
              " \"didn't\": 231,\n",
              " 'anything': 232,\n",
              " 'rather': 233,\n",
              " 'others': 234,\n",
              " 'both': 235,\n",
              " 'hope': 236,\n",
              " 'fair': 237,\n",
              " 'while': 238,\n",
              " 'sorry': 239,\n",
              " 'yourself': 240,\n",
              " 'http': 241,\n",
              " 'admins': 242,\n",
              " 'wrong': 243,\n",
              " 'though': 244,\n",
              " 'comments': 245,\n",
              " 'believe': 246,\n",
              " 'best': 247,\n",
              " 'seems': 248,\n",
              " 'few': 249,\n",
              " \"i'll\": 250,\n",
              " 'us': 251,\n",
              " 'opinion': 252,\n",
              " 'issue': 253,\n",
              " 'consensus': 254,\n",
              " 'must': 255,\n",
              " 'pro': 256,\n",
              " 'long': 257,\n",
              " 'problem': 258,\n",
              " 'hi': 259,\n",
              " 'ip': 260,\n",
              " 'making': 261,\n",
              " 'different': 262,\n",
              " 'little': 263,\n",
              " 'already': 264,\n",
              " 'understand': 265,\n",
              " 'years': 266,\n",
              " 'let': 267,\n",
              " 'delete': 268,\n",
              " \"can't\": 269,\n",
              " 'shit': 270,\n",
              " 'material': 271,\n",
              " 'mean': 272,\n",
              " 'far': 273,\n",
              " 'nothing': 274,\n",
              " 'anyone': 275,\n",
              " 'non': 276,\n",
              " 'show': 277,\n",
              " 'editor': 278,\n",
              " 'media': 279,\n",
              " 'agree': 280,\n",
              " '3': 281,\n",
              " '—': 282,\n",
              " 'check': 283,\n",
              " 'request': 284,\n",
              " 'change': 285,\n",
              " 'text': 286,\n",
              " 'english': 287,\n",
              " 'com': 288,\n",
              " 'bastard': 289,\n",
              " 'top': 290,\n",
              " 'evidence': 291,\n",
              " 'try': 292,\n",
              " 'trying': 293,\n",
              " 'part': 294,\n",
              " 'leave': 295,\n",
              " 'site': 296,\n",
              " 'world': 297,\n",
              " 'guidelines': 298,\n",
              " 'enough': 299,\n",
              " 'states': 300,\n",
              " 'reliable': 301,\n",
              " 'clearly': 302,\n",
              " 'notable': 303,\n",
              " 'adding': 304,\n",
              " 'great': 305,\n",
              " 'war': 306,\n",
              " \"hanibal911you're\": 307,\n",
              " 'assad': 308,\n",
              " 'either': 309,\n",
              " \"isn't\": 310,\n",
              " 'probably': 311,\n",
              " 'yes': 312,\n",
              " 'write': 313,\n",
              " 'eat': 314,\n",
              " 'doing': 315,\n",
              " 'come': 316,\n",
              " 'called': 317,\n",
              " 'says': 318,\n",
              " 'encyclopedia': 319,\n",
              " 'clear': 320,\n",
              " 'contributions': 321,\n",
              " 'through': 322,\n",
              " 'references': 323,\n",
              " 'reference': 324,\n",
              " 'created': 325,\n",
              " 'criteria': 326,\n",
              " 'copyright': 327,\n",
              " 'continue': 328,\n",
              " 'example': 329,\n",
              " 'style': 330,\n",
              " 'instead': 331,\n",
              " 'once': 332,\n",
              " 'having': 333,\n",
              " 'original': 334,\n",
              " 'matter': 335,\n",
              " 'found': 336,\n",
              " 'around': 337,\n",
              " 'etc': 338,\n",
              " 'users': 339,\n",
              " 'given': 340,\n",
              " 'needs': 341,\n",
              " 'several': 342,\n",
              " 'words': 343,\n",
              " 'every': 344,\n",
              " 'thought': 345,\n",
              " 'ever': 346,\n",
              " 'got': 347,\n",
              " 'day': 348,\n",
              " 'cocksucking': 349,\n",
              " 'pov': 350,\n",
              " 'true': 351,\n",
              " 'between': 352,\n",
              " 'important': 353,\n",
              " 'lot': 354,\n",
              " 'related': 355,\n",
              " 'admin': 356,\n",
              " 'yet': 357,\n",
              " 'cunts': 358,\n",
              " 'hello': 359,\n",
              " 'real': 360,\n",
              " 'version': 361,\n",
              " 'always': 362,\n",
              " 'give': 363,\n",
              " 'times': 364,\n",
              " 'images': 365,\n",
              " 'title': 366,\n",
              " 'least': 367,\n",
              " 'based': 368,\n",
              " 'support': 369,\n",
              " 'number': 370,\n",
              " 'simply': 371,\n",
              " 'post': 372,\n",
              " 'bit': 373,\n",
              " 'date': 374,\n",
              " 'claim': 375,\n",
              " 'e': 376,\n",
              " 're': 377,\n",
              " 'revert': 378,\n",
              " 'maybe': 379,\n",
              " 'quite': 380,\n",
              " 'term': 381,\n",
              " 'changes': 382,\n",
              " 'below': 383,\n",
              " 'view': 384,\n",
              " 'saying': 385,\n",
              " 'consider': 386,\n",
              " 'whether': 387,\n",
              " 'last': 388,\n",
              " 'appropriate': 389,\n",
              " 'considered': 390,\n",
              " 'three': 391,\n",
              " 'word': 392,\n",
              " 'facts': 393,\n",
              " \"i'd\": 394,\n",
              " 'book': 395,\n",
              " 'group': 396,\n",
              " 'state': 397,\n",
              " 'listed': 398,\n",
              " '10': 399,\n",
              " 's': 400,\n",
              " 'general': 401,\n",
              " 'mentioned': 402,\n",
              " 'down': 403,\n",
              " 'further': 404,\n",
              " 'research': 405,\n",
              " 'life': 406,\n",
              " 'reverted': 407,\n",
              " 'review': 408,\n",
              " 'following': 409,\n",
              " 'mention': 410,\n",
              " 'discuss': 411,\n",
              " 'template': 412,\n",
              " 'tell': 413,\n",
              " 'left': 414,\n",
              " 'account': 415,\n",
              " 'file': 416,\n",
              " 'position': 417,\n",
              " '5': 418,\n",
              " 'seem': 419,\n",
              " 'getting': 420,\n",
              " 'notice': 421,\n",
              " 'idea': 422,\n",
              " 'statement': 423,\n",
              " 'org': 424,\n",
              " 'rules': 425,\n",
              " 'less': 426,\n",
              " 'old': 427,\n",
              " 'message': 428,\n",
              " 'hey': 429,\n",
              " '2005': 430,\n",
              " 'perhaps': 431,\n",
              " 'summary': 432,\n",
              " 'regarding': 433,\n",
              " 'bad': 434,\n",
              " 'united': 435,\n",
              " 'written': 436,\n",
              " 'correct': 437,\n",
              " 'full': 438,\n",
              " 'each': 439,\n",
              " 'order': 440,\n",
              " 'second': 441,\n",
              " 'color': 442,\n",
              " \"wikipedia's\": 443,\n",
              " 'notability': 444,\n",
              " '4': 445,\n",
              " 'makes': 446,\n",
              " 'ban': 447,\n",
              " 'call': 448,\n",
              " 'else': 449,\n",
              " 'address': 450,\n",
              " 'topic': 451,\n",
              " 'until': 452,\n",
              " 'redirect': 453,\n",
              " 'policies': 454,\n",
              " 'known': 455,\n",
              " 'course': 456,\n",
              " '100': 457,\n",
              " 'attacks': 458,\n",
              " 'include': 459,\n",
              " 'taken': 460,\n",
              " 'wanted': 461,\n",
              " 'possible': 462,\n",
              " 'whole': 463,\n",
              " 'kind': 464,\n",
              " 'seen': 465,\n",
              " 'means': 466,\n",
              " 'anyway': 467,\n",
              " 'answer': 468,\n",
              " \"wasn't\": 469,\n",
              " 'next': 470,\n",
              " 'suggest': 471,\n",
              " 'explain': 472,\n",
              " 'report': 473,\n",
              " 'www': 474,\n",
              " '6': 475,\n",
              " 'form': 476,\n",
              " 'specific': 477,\n",
              " 'care': 478,\n",
              " 'cannot': 479,\n",
              " 'american': 480,\n",
              " 'en': 481,\n",
              " 'year': 482,\n",
              " 'background': 483,\n",
              " 'provide': 484,\n",
              " 'included': 485,\n",
              " 'man': 486,\n",
              " 'posted': 487,\n",
              " 'school': 488,\n",
              " 'quote': 489,\n",
              " 'website': 490,\n",
              " 'move': 491,\n",
              " 'attack': 492,\n",
              " 'ok': 493,\n",
              " 'four': 494,\n",
              " 'during': 495,\n",
              " 'short': 496,\n",
              " 'remember': 497,\n",
              " 'community': 498,\n",
              " 'sentence': 499,\n",
              " 'category': 500,\n",
              " 'start': 501,\n",
              " 'issues': 502,\n",
              " 'asked': 503,\n",
              " 'contribs': 504,\n",
              " 'u': 505,\n",
              " 'company': 506,\n",
              " 'myself': 507,\n",
              " 'happy': 508,\n",
              " '11': 509,\n",
              " 'per': 510,\n",
              " 'placed': 511,\n",
              " 'create': 512,\n",
              " 'god': 513,\n",
              " 'learn': 514,\n",
              " 'days': 515,\n",
              " 'neutral': 516,\n",
              " 'according': 517,\n",
              " 'provided': 518,\n",
              " 'edited': 519,\n",
              " '2007': 520,\n",
              " 'stated': 521,\n",
              " 'b': 522,\n",
              " 'band': 523,\n",
              " 'including': 524,\n",
              " 'truth': 525,\n",
              " 'news': 526,\n",
              " 'ago': 527,\n",
              " 'within': 528,\n",
              " 'sort': 529,\n",
              " 'film': 530,\n",
              " 'c': 531,\n",
              " '7': 532,\n",
              " 'story': 533,\n",
              " 'deleting': 534,\n",
              " 'main': 535,\n",
              " '2010': 536,\n",
              " 'self': 537,\n",
              " 'started': 538,\n",
              " 'nice': 539,\n",
              " \"won't\": 540,\n",
              " 'claims': 541,\n",
              " 'lead': 542,\n",
              " 'writing': 543,\n",
              " \"there's\": 544,\n",
              " 'certainly': 545,\n",
              " 'changed': 546,\n",
              " 'language': 547,\n",
              " 'big': 548,\n",
              " 'unless': 549,\n",
              " 'line': 550,\n",
              " 'high': 551,\n",
              " 'otherwise': 552,\n",
              " 'official': 553,\n",
              " 'later': 554,\n",
              " 'uploaded': 555,\n",
              " 'future': 556,\n",
              " 'currently': 557,\n",
              " 'appears': 558,\n",
              " 'sign': 559,\n",
              " 'mind': 560,\n",
              " 'sense': 561,\n",
              " \"you've\": 562,\n",
              " 'interest': 563,\n",
              " 'looks': 564,\n",
              " 'side': 565,\n",
              " 'end': 566,\n",
              " '2006': 567,\n",
              " 'entry': 568,\n",
              " 'yeah': 569,\n",
              " 'useful': 570,\n",
              " 'reverting': 571,\n",
              " 'names': 572,\n",
              " 'national': 573,\n",
              " 'saw': 574,\n",
              " 'web': 575,\n",
              " 'wrote': 576,\n",
              " 'completely': 577,\n",
              " '2008': 578,\n",
              " 'search': 579,\n",
              " 'simple': 580,\n",
              " 'came': 581,\n",
              " 'tried': 582,\n",
              " 'jpg': 583,\n",
              " 'reply': 584,\n",
              " 'generally': 585,\n",
              " 'description': 586,\n",
              " 'particular': 587,\n",
              " 'went': 588,\n",
              " 'power': 589,\n",
              " 'obviously': 590,\n",
              " 'relevant': 591,\n",
              " 'picture': 592,\n",
              " 'avoid': 593,\n",
              " 'therefore': 594,\n",
              " 'points': 595,\n",
              " '20': 596,\n",
              " 'sandbox': 597,\n",
              " 'tags': 598,\n",
              " 'email': 599,\n",
              " 'removing': 600,\n",
              " 'info': 601,\n",
              " 'british': 602,\n",
              " 'guess': 603,\n",
              " 'recent': 604,\n",
              " 'away': 605,\n",
              " 'copy': 606,\n",
              " 'books': 607,\n",
              " 'mother': 608,\n",
              " 'country': 609,\n",
              " 'nor': 610,\n",
              " 'needed': 611,\n",
              " 'dispute': 612,\n",
              " 'username': 613,\n",
              " 'happened': 614,\n",
              " 'works': 615,\n",
              " 'exactly': 616,\n",
              " 'wish': 617,\n",
              " 'stuff': 618,\n",
              " 'proper': 619,\n",
              " 'proposed': 620,\n",
              " 'looking': 621,\n",
              " '15': 622,\n",
              " 'five': 623,\n",
              " 'able': 624,\n",
              " 'warning': 625,\n",
              " 'aware': 626,\n",
              " 'similar': 627,\n",
              " 'oh': 628,\n",
              " \"article's\": 629,\n",
              " '000': 630,\n",
              " 'everyone': 631,\n",
              " 'stay': 632,\n",
              " 'decide': 633,\n",
              " '21': 634,\n",
              " 'living': 635,\n",
              " 'fine': 636,\n",
              " 'play': 637,\n",
              " 'working': 638,\n",
              " '23': 639,\n",
              " 'rationale': 640,\n",
              " 'took': 641,\n",
              " 'previous': 642,\n",
              " 'automatically': 643,\n",
              " '12': 644,\n",
              " 'improve': 645,\n",
              " 'system': 646,\n",
              " 'status': 647,\n",
              " 'hard': 648,\n",
              " 'interested': 649,\n",
              " 'reading': 650,\n",
              " '18': 651,\n",
              " 'views': 652,\n",
              " 'process': 653,\n",
              " 'whatever': 654,\n",
              " 'close': 655,\n",
              " '0': 656,\n",
              " 'google': 657,\n",
              " 'talking': 658,\n",
              " 'moved': 659,\n",
              " 'pretty': 660,\n",
              " 'allowed': 661,\n",
              " 'statements': 662,\n",
              " 'reasons': 663,\n",
              " 'act': 664,\n",
              " 'itself': 665,\n",
              " 'cited': 666,\n",
              " 'response': 667,\n",
              " 'alone': 668,\n",
              " 'npov': 669,\n",
              " 't': 670,\n",
              " 'current': 671,\n",
              " 'government': 672,\n",
              " 'mr': 673,\n",
              " 'everything': 674,\n",
              " 'faith': 675,\n",
              " 'game': 676,\n",
              " 'p': 677,\n",
              " 'members': 678,\n",
              " 'published': 679,\n",
              " 'rule': 680,\n",
              " 'job': 681,\n",
              " 'actions': 682,\n",
              " 'various': 683,\n",
              " '22': 684,\n",
              " 'existing': 685,\n",
              " 'love': 686,\n",
              " 'john': 687,\n",
              " 'guy': 688,\n",
              " 'due': 689,\n",
              " 'type': 690,\n",
              " 'often': 691,\n",
              " 'league': 692,\n",
              " 'video': 693,\n",
              " 'apparently': 694,\n",
              " 'past': 695,\n",
              " 'single': 696,\n",
              " 'standard': 697,\n",
              " 'necessary': 698,\n",
              " 'almost': 699,\n",
              " 'force': 700,\n",
              " 'live': 701,\n",
              " 'project': 702,\n",
              " 'russian': 703,\n",
              " 'class': 704,\n",
              " 'public': 705,\n",
              " 'exist': 706,\n",
              " 'banned': 707,\n",
              " 'regards': 708,\n",
              " 'ones': 709,\n",
              " 'taking': 710,\n",
              " 'open': 711,\n",
              " 'width': 712,\n",
              " '13': 713,\n",
              " '24': 714,\n",
              " \"he's\": 715,\n",
              " 'countries': 716,\n",
              " 'sock': 717,\n",
              " 'knowledge': 718,\n",
              " 'record': 719,\n",
              " 'accepted': 720,\n",
              " 'false': 721,\n",
              " 'cite': 722,\n",
              " 'de': 723,\n",
              " \"haven't\": 724,\n",
              " 'manner': 725,\n",
              " 'recently': 726,\n",
              " \"you'd\": 727,\n",
              " 'appear': 728,\n",
              " 'explanation': 729,\n",
              " 'june': 730,\n",
              " 'sometimes': 731,\n",
              " 'jews': 732,\n",
              " '9': 733,\n",
              " 'theory': 734,\n",
              " 'dont': 735,\n",
              " 'sites': 736,\n",
              " 'thus': 737,\n",
              " 'goes': 738,\n",
              " 'appreciate': 739,\n",
              " 'indeed': 740,\n",
              " 'set': 741,\n",
              " 'entire': 742,\n",
              " 'months': 743,\n",
              " 'contributing': 744,\n",
              " 'posting': 745,\n",
              " 'directly': 746,\n",
              " 'follow': 747,\n",
              " 'helpful': 748,\n",
              " 'enjoy': 749,\n",
              " 'noticed': 750,\n",
              " 'anti': 751,\n",
              " 'available': 752,\n",
              " 'g': 753,\n",
              " 'although': 754,\n",
              " 'respect': 755,\n",
              " 'small': 756,\n",
              " 'paragraph': 757,\n",
              " 'music': 758,\n",
              " 'cheers': 759,\n",
              " 'align': 760,\n",
              " 'common': 761,\n",
              " 'speak': 762,\n",
              " 'today': 763,\n",
              " 'messages': 764,\n",
              " 'violation': 765,\n",
              " 'personally': 766,\n",
              " 'bias': 767,\n",
              " 'attention': 768,\n",
              " 'human': 769,\n",
              " '2004': 770,\n",
              " 'vandalize': 771,\n",
              " 'explaining': 772,\n",
              " \"shouldn't\": 773,\n",
              " 'actual': 774,\n",
              " 'terms': 775,\n",
              " 'argument': 776,\n",
              " 'week': 777,\n",
              " 'science': 778,\n",
              " '–': 779,\n",
              " 'major': 780,\n",
              " 'result': 781,\n",
              " 'biased': 782,\n",
              " 'james': 783,\n",
              " '02': 784,\n",
              " '16': 785,\n",
              " '17': 786,\n",
              " 'large': 787,\n",
              " 'tildes': 788,\n",
              " 'certain': 789,\n",
              " 'present': 790,\n",
              " 'become': 791,\n",
              " 'contest': 792,\n",
              " \"you'll\": 793,\n",
              " 'difference': 794,\n",
              " 'born': 795,\n",
              " 'soon': 796,\n",
              " 'uses': 797,\n",
              " 'scientific': 798,\n",
              " 'penis': 799,\n",
              " 'family': 800,\n",
              " 'okay': 801,\n",
              " 'administrator': 802,\n",
              " 'along': 803,\n",
              " 'happen': 804,\n",
              " 'likely': 805,\n",
              " 'themselves': 806,\n",
              " 'especially': 807,\n",
              " 'opinions': 808,\n",
              " 'arbitration': 809,\n",
              " 'guide': 810,\n",
              " 'indicate': 811,\n",
              " 'sourced': 812,\n",
              " 'definition': 813,\n",
              " 'debate': 814,\n",
              " 'multiple': 815,\n",
              " 'abuse': 816,\n",
              " 'legal': 817,\n",
              " 'fucker': 818,\n",
              " 'himself': 819,\n",
              " 'external': 820,\n",
              " 'told': 821,\n",
              " 'german': 822,\n",
              " 'shoot': 823,\n",
              " 'criticism': 824,\n",
              " '30': 825,\n",
              " 'afd': 826,\n",
              " 'size': 827,\n",
              " 'usually': 828,\n",
              " 'table': 829,\n",
              " 'third': 830,\n",
              " 'party': 831,\n",
              " 'space': 832,\n",
              " 'citation': 833,\n",
              " 'creating': 834,\n",
              " 'run': 835,\n",
              " 'uk': 836,\n",
              " 'period': 837,\n",
              " 'problems': 838,\n",
              " 'license': 839,\n",
              " 'events': 840,\n",
              " '8': 841,\n",
              " 'border': 842,\n",
              " \"let's\": 843,\n",
              " \"what's\": 844,\n",
              " 'longer': 845,\n",
              " 'guys': 846,\n",
              " 'south': 847,\n",
              " 'online': 848,\n",
              " 'contact': 849,\n",
              " 'conflict': 850,\n",
              " 'decided': 851,\n",
              " 'valid': 852,\n",
              " 'gets': 853,\n",
              " 'refer': 854,\n",
              " 'level': 855,\n",
              " 'produce': 856,\n",
              " 'white': 857,\n",
              " 'm': 858,\n",
              " 'd': 859,\n",
              " 'red': 860,\n",
              " 'meet': 861,\n",
              " 'rights': 862,\n",
              " 'towards': 863,\n",
              " 'blocking': 864,\n",
              " 'death': 865,\n",
              " 'pillars': 866,\n",
              " 'manual': 867,\n",
              " 'controversial': 868,\n",
              " 'context': 869,\n",
              " 'political': 870,\n",
              " 'involved': 871,\n",
              " 'except': 872,\n",
              " 'tagged': 873,\n",
              " 'advice': 874,\n",
              " 'japanese': 875,\n",
              " 'cause': 876,\n",
              " 'nonsense': 877,\n",
              " \"aren't\": 878,\n",
              " 'page\\r': 879,\n",
              " 'mistake': 880,\n",
              " 'error': 881,\n",
              " 'quality': 882,\n",
              " 'meaning': 883,\n",
              " 'neither': 884,\n",
              " 'law': 885,\n",
              " 'none': 886,\n",
              " 'unblock': 887,\n",
              " 'interesting': 888,\n",
              " 'album': 889,\n",
              " 'deal': 890,\n",
              " 'earlier': 891,\n",
              " 'situation': 892,\n",
              " 'reported': 893,\n",
              " 'behavior': 894,\n",
              " 'together': 895,\n",
              " 'numbers': 896,\n",
              " 'action': 897,\n",
              " 'acceptable': 898,\n",
              " 'field': 899,\n",
              " 'basically': 900,\n",
              " 'assume': 901,\n",
              " 'templates': 902,\n",
              " 'gone': 903,\n",
              " '14': 904,\n",
              " 'hell': 905,\n",
              " 'arguments': 906,\n",
              " 'population': 907,\n",
              " 'upon': 908,\n",
              " '\\xa0': 909,\n",
              " 'curps': 910,\n",
              " '19': 911,\n",
              " 'v': 912,\n",
              " 'hate': 913,\n",
              " 'groups': 914,\n",
              " 'particularly': 915,\n",
              " 'doubt': 916,\n",
              " 'series': 917,\n",
              " 'wait': 918,\n",
              " 'stupid': 919,\n",
              " 'prove': 920,\n",
              " 'administrators': 921,\n",
              " 'ireland': 922,\n",
              " 'sent': 923,\n",
              " 'attempt': 924,\n",
              " 'greek': 925,\n",
              " 'racist': 926,\n",
              " 'vs': 927,\n",
              " 'couple': 928,\n",
              " 'dead': 929,\n",
              " 'incident': 930,\n",
              " 'addition': 931,\n",
              " 'contribute': 932,\n",
              " 'test': 933,\n",
              " 'bring': 934,\n",
              " 'rest': 935,\n",
              " 'civil': 936,\n",
              " 'specifically': 937,\n",
              " 'upload': 938,\n",
              " 'release': 939,\n",
              " 'vertical': 940,\n",
              " 'freak': 941,\n",
              " 'discussions': 942,\n",
              " 'separate': 943,\n",
              " 'church': 944,\n",
              " 'gave': 945,\n",
              " 'discussed': 946,\n",
              " 'inappropriate': 947,\n",
              " 'body': 948,\n",
              " 'citations': 949,\n",
              " 'totally': 950,\n",
              " 'january': 951,\n",
              " 'independent': 952,\n",
              " 'fix': 953,\n",
              " 'suggested': 954,\n",
              " 'mass': 955,\n",
              " 'popular': 956,\n",
              " 'thinking': 957,\n",
              " 'blp': 958,\n",
              " 'merely': 959,\n",
              " 'supposed': 960,\n",
              " 'results': 961,\n",
              " 'standards': 962,\n",
              " 'ignore': 963,\n",
              " '27': 964,\n",
              " 'contribution': 965,\n",
              " 'final': 966,\n",
              " 'worked': 967,\n",
              " 'shows': 968,\n",
              " 'awards': 969,\n",
              " 'saddle': 970,\n",
              " 'disagree': 971,\n",
              " 'heard': 972,\n",
              " 'christian': 973,\n",
              " 'negative': 974,\n",
              " 'linked': 975,\n",
              " 'hours': 976,\n",
              " 'wikipedia\\r': 977,\n",
              " 'team': 978,\n",
              " 'dear': 979,\n",
              " 'business': 980,\n",
              " 'barnstar': 981,\n",
              " 'requesting': 982,\n",
              " 'speedily': 983,\n",
              " 'obvious': 984,\n",
              " 'disruptive': 985,\n",
              " 'french': 986,\n",
              " 'anymore': 987,\n",
              " 'accurate': 988,\n",
              " 'established': 989,\n",
              " 'watch': 990,\n",
              " 'putting': 991,\n",
              " 'luck': 992,\n",
              " 'among': 993,\n",
              " 'song': 994,\n",
              " 'controversy': 995,\n",
              " 'decision': 996,\n",
              " 'leaving': 997,\n",
              " 'unfortunately': 998,\n",
              " 'respond': 999,\n",
              " 'insert': 1000,\n",
              " ...}"
            ]
          },
          "metadata": {
            "tags": []
          },
          "execution_count": 485
        }
      ]
    },
    {
      "cell_type": "markdown",
      "metadata": {
        "id": "2GgPOuSzKMRA"
      },
      "source": [
        "# Prepare Training and Test Data"
      ]
    },
    {
      "cell_type": "markdown",
      "metadata": {
        "id": "8o8fG3FtKMRA"
      },
      "source": [
        "Get the word index for each of the word in the review"
      ]
    },
    {
      "cell_type": "code",
      "metadata": {
        "id": "G9m65RFCVXCd",
        "colab": {
          "base_uri": "https://localhost:8080/"
        },
        "outputId": "e4bbdd26-690a-4e21-d8ec-b437ee5eb8f4"
      },
      "source": [
        "X_train[0:1]"
      ],
      "execution_count": 486,
      "outputs": [
        {
          "output_type": "execute_result",
          "data": {
            "text/plain": [
              "4227    , 5 November 2007 (UTC)\\r\\n\\r\\nI don't think I...\n",
              "Name: comment_text, dtype: object"
            ]
          },
          "metadata": {
            "tags": []
          },
          "execution_count": 486
        }
      ]
    },
    {
      "cell_type": "code",
      "metadata": {
        "id": "fNQIpYPKKMRB"
      },
      "source": [
        "X_train = t.texts_to_sequences(X_train.tolist())"
      ],
      "execution_count": 487,
      "outputs": []
    },
    {
      "cell_type": "code",
      "metadata": {
        "id": "Xh1nDZFDVlB8",
        "colab": {
          "base_uri": "https://localhost:8080/"
        },
        "outputId": "7307652a-ce14-4e9c-de7a-ab32d1a232c2"
      },
      "source": [
        "X_train[0:1]"
      ],
      "execution_count": 488,
      "outputs": [
        {
          "output_type": "execute_result",
          "data": {
            "text/plain": [
              "[[418,\n",
              "  1096,\n",
              "  520,\n",
              "  165,\n",
              "  2,\n",
              "  2,\n",
              "  4,\n",
              "  60,\n",
              "  68,\n",
              "  82,\n",
              "  1,\n",
              "  51,\n",
              "  135,\n",
              "  10,\n",
              "  128,\n",
              "  6,\n",
              "  7,\n",
              "  3824,\n",
              "  39,\n",
              "  16,\n",
              "  1472,\n",
              "  1,\n",
              "  13,\n",
              "  1,\n",
              "  2,\n",
              "  2,\n",
              "  155,\n",
              "  22,\n",
              "  5,\n",
              "  119,\n",
              "  3,\n",
              "  152,\n",
              "  15,\n",
              "  1,\n",
              "  681,\n",
              "  6,\n",
              "  28,\n",
              "  4,\n",
              "  42,\n",
              "  311,\n",
              "  35,\n",
              "  3,\n",
              "  5,\n",
              "  39,\n",
              "  12,\n",
              "  2,\n",
              "  2,\n",
              "  27,\n",
              "  22,\n",
              "  5,\n",
              "  119,\n",
              "  3,\n",
              "  33,\n",
              "  38,\n",
              "  121,\n",
              "  64,\n",
              "  128,\n",
              "  7,\n",
              "  1097,\n",
              "  2549,\n",
              "  15,\n",
              "  59,\n",
              "  3,\n",
              "  2015,\n",
              "  1,\n",
              "  942,\n",
              "  843,\n",
              "  1408,\n",
              "  3,\n",
              "  45,\n",
              "  9,\n",
              "  455,\n",
              "  39,\n",
              "  75,\n",
              "  4,\n",
              "  23,\n",
              "  178,\n",
              "  801,\n",
              "  2,\n",
              "  4443,\n",
              "  178,\n",
              "  40,\n",
              "  87,\n",
              "  4,\n",
              "  3825,\n",
              "  10,\n",
              "  7,\n",
              "  159,\n",
              "  5389,\n",
              "  3,\n",
              "  7,\n",
              "  943,\n",
              "  1473,\n",
              "  15,\n",
              "  7,\n",
              "  2550,\n",
              "  1409,\n",
              "  11,\n",
              "  3043,\n",
              "  23,\n",
              "  1257,\n",
              "  8,\n",
              "  10,\n",
              "  67,\n",
              "  682,\n",
              "  863,\n",
              "  40,\n",
              "  64,\n",
              "  70,\n",
              "  11,\n",
              "  87,\n",
              "  4443,\n",
              "  581,\n",
              "  153,\n",
              "  65,\n",
              "  8,\n",
              "  190,\n",
              "  11,\n",
              "  23,\n",
              "  75,\n",
              "  52,\n",
              "  23,\n",
              "  864,\n",
              "  40,\n",
              "  2,\n",
              "  3043,\n",
              "  178,\n",
              "  40,\n",
              "  87,\n",
              "  4,\n",
              "  99,\n",
              "  16,\n",
              "  1709,\n",
              "  15,\n",
              "  30,\n",
              "  3379,\n",
              "  3380,\n",
              "  64,\n",
              "  70,\n",
              "  11,\n",
              "  87,\n",
              "  52,\n",
              "  581,\n",
              "  153,\n",
              "  65,\n",
              "  8,\n",
              "  190,\n",
              "  11,\n",
              "  23,\n",
              "  75,\n",
              "  52,\n",
              "  23,\n",
              "  864,\n",
              "  40,\n",
              "  2,\n",
              "  64,\n",
              "  66,\n",
              "  70,\n",
              "  12,\n",
              "  87,\n",
              "  3043,\n",
              "  588,\n",
              "  3,\n",
              "  8,\n",
              "  190,\n",
              "  11,\n",
              "  23,\n",
              "  75,\n",
              "  52,\n",
              "  23,\n",
              "  864,\n",
              "  40,\n",
              "  2,\n",
              "  3043,\n",
              "  86,\n",
              "  16,\n",
              "  140,\n",
              "  8,\n",
              "  106,\n",
              "  58,\n",
              "  117,\n",
              "  729,\n",
              "  34,\n",
              "  30,\n",
              "  35,\n",
              "  448,\n",
              "  7,\n",
              "  3826,\n",
              "  7,\n",
              "  3826,\n",
              "  2,\n",
              "  3043,\n",
              "  86,\n",
              "  16,\n",
              "  140,\n",
              "  8,\n",
              "  106,\n",
              "  58,\n",
              "  117,\n",
              "  729,\n",
              "  34,\n",
              "  100,\n",
              "  35,\n",
              "  2,\n",
              "  104,\n",
              "  379,\n",
              "  4,\n",
              "  53,\n",
              "  1258,\n",
              "  12,\n",
              "  27,\n",
              "  4,\n",
              "  60,\n",
              "  68,\n",
              "  44,\n",
              "  9,\n",
              "  232,\n",
              "  34,\n",
              "  30,\n",
              "  864,\n",
              "  202,\n",
              "  385,\n",
              "  11,\n",
              "  1,\n",
              "  996,\n",
              "  3,\n",
              "  191,\n",
              "  9,\n",
              "  181,\n",
              "  1259,\n",
              "  34,\n",
              "  1,\n",
              "  5390,\n",
              "  6882,\n",
              "  25,\n",
              "  11,\n",
              "  1,\n",
              "  802,\n",
              "  191,\n",
              "  104,\n",
              "  5,\n",
              "  42,\n",
              "  362,\n",
              "  6883,\n",
              "  7,\n",
              "  196,\n",
              "  13,\n",
              "  12,\n",
              "  554,\n",
              "  2,\n",
              "  25,\n",
              "  232,\n",
              "  803,\n",
              "  157,\n",
              "  1710,\n",
              "  38,\n",
              "  843,\n",
              "  53,\n",
              "  1408,\n",
              "  24,\n",
              "  45,\n",
              "  9,\n",
              "  227,\n",
              "  455,\n",
              "  8,\n",
              "  3827,\n",
              "  39,\n",
              "  52,\n",
              "  196,\n",
              "  13,\n",
              "  59,\n",
              "  4,\n",
              "  23,\n",
              "  178,\n",
              "  1,\n",
              "  228,\n",
              "  11,\n",
              "  99,\n",
              "  56,\n",
              "  2178,\n",
              "  8,\n",
              "  1895,\n",
              "  10,\n",
              "  180,\n",
              "  683,\n",
              "  65,\n",
              "  34,\n",
              "  30,\n",
              "  149,\n",
              "  4,\n",
              "  23,\n",
              "  178,\n",
              "  232,\n",
              "  449,\n",
              "  9,\n",
              "  1027,\n",
              "  2,\n",
              "  2,\n",
              "  60,\n",
              "  6883,\n",
              "  126,\n",
              "  663,\n",
              "  13,\n",
              "  7,\n",
              "  191,\n",
              "  34,\n",
              "  1,\n",
              "  146,\n",
              "  92,\n",
              "  60,\n",
              "  131,\n",
              "  11,\n",
              "  1,\n",
              "  521,\n",
              "  663,\n",
              "  13,\n",
              "  7,\n",
              "  191,\n",
              "  88,\n",
              "  16,\n",
              "  1,\n",
              "  663,\n",
              "  13,\n",
              "  12,\n",
              "  2,\n",
              "  2,\n",
              "  13,\n",
              "  11,\n",
              "  335,\n",
              "  22,\n",
              "  3043,\n",
              "  99,\n",
              "  461,\n",
              "  3,\n",
              "  152,\n",
              "  15,\n",
              "  11,\n",
              "  681,\n",
              "  8,\n",
              "  99,\n",
              "  1896,\n",
              "  11,\n",
              "  44,\n",
              "  23,\n",
              "  181,\n",
              "  52,\n",
              "  461,\n",
              "  3,\n",
              "  3044,\n",
              "  40,\n",
              "  52,\n",
              "  2765,\n",
              "  115,\n",
              "  20,\n",
              "  582,\n",
              "  3,\n",
              "  35,\n",
              "  3,\n",
              "  40,\n",
              "  52,\n",
              "  86,\n",
              "  16,\n",
              "  33,\n",
              "  38,\n",
              "  22,\n",
              "  4443,\n",
              "  99,\n",
              "  461,\n",
              "  3,\n",
              "  152,\n",
              "  15,\n",
              "  11,\n",
              "  681,\n",
              "  52,\n",
              "  2765,\n",
              "  115,\n",
              "  20,\n",
              "  582,\n",
              "  3,\n",
              "  35,\n",
              "  3,\n",
              "  40,\n",
              "  27,\n",
              "  52,\n",
              "  641,\n",
              "  12,\n",
              "  51,\n",
              "  1302,\n",
              "  404,\n",
              "  93,\n",
              "  3043,\n",
              "  86,\n",
              "  4443,\n",
              "  86,\n",
              "  106,\n",
              "  7,\n",
              "  200,\n",
              "  1474,\n",
              "  3,\n",
              "  181,\n",
              "  4,\n",
              "  190,\n",
              "  27,\n",
              "  83,\n",
              "  52,\n",
              "  178,\n",
              "  40,\n",
              "  3,\n",
              "  1410,\n",
              "  40,\n",
              "  36,\n",
              "  1800,\n",
              "  3,\n",
              "  67,\n",
              "  163,\n",
              "  200,\n",
              "  684,\n",
              "  713]]"
            ]
          },
          "metadata": {
            "tags": []
          },
          "execution_count": 488
        }
      ]
    },
    {
      "cell_type": "code",
      "metadata": {
        "id": "3Gix3lNmKMRD"
      },
      "source": [
        "X_test = t.texts_to_sequences(X_test.tolist())"
      ],
      "execution_count": 489,
      "outputs": []
    },
    {
      "cell_type": "markdown",
      "metadata": {
        "id": "hb9z28TZKMRF"
      },
      "source": [
        "How many words in each review?"
      ]
    },
    {
      "cell_type": "markdown",
      "metadata": {
        "id": "fKmVWM5pKMRF"
      },
      "source": [
        "# Pad Sequences - Important"
      ]
    },
    {
      "cell_type": "code",
      "metadata": {
        "id": "h5YfEUx2KMRI"
      },
      "source": [
        "#Define maximum number of words to consider in each review\n",
        "max_review_length = 300"
      ],
      "execution_count": 490,
      "outputs": []
    },
    {
      "cell_type": "code",
      "metadata": {
        "id": "aeJeFjogKMRM"
      },
      "source": [
        "#Pad training and test reviews\n",
        "X_train = tf.keras.preprocessing.sequence.pad_sequences(X_train,\n",
        "                                                        maxlen=max_review_length,\n",
        "                                                        padding='pre')\n",
        "X_test = tf.keras.preprocessing.sequence.pad_sequences(X_test, \n",
        "                                                       maxlen=max_review_length, \n",
        "                                                       padding='pre')"
      ],
      "execution_count": 491,
      "outputs": []
    },
    {
      "cell_type": "code",
      "metadata": {
        "id": "i4GLCWBOlztU",
        "colab": {
          "base_uri": "https://localhost:8080/"
        },
        "outputId": "752ea415-12ab-462a-b716-9af536b971a6"
      },
      "source": [
        "X_train.shape"
      ],
      "execution_count": 492,
      "outputs": [
        {
          "output_type": "execute_result",
          "data": {
            "text/plain": [
              "(4000, 300)"
            ]
          },
          "metadata": {
            "tags": []
          },
          "execution_count": 492
        }
      ]
    },
    {
      "cell_type": "code",
      "metadata": {
        "id": "CmtU2MlR7jVG",
        "colab": {
          "base_uri": "https://localhost:8080/",
          "height": 252
        },
        "outputId": "7b4d9929-794e-4573-de01-830640f77788"
      },
      "source": [
        "pd.DataFrame(X_train).head()"
      ],
      "execution_count": 493,
      "outputs": [
        {
          "output_type": "execute_result",
          "data": {
            "text/html": [
              "<div>\n",
              "<style scoped>\n",
              "    .dataframe tbody tr th:only-of-type {\n",
              "        vertical-align: middle;\n",
              "    }\n",
              "\n",
              "    .dataframe tbody tr th {\n",
              "        vertical-align: top;\n",
              "    }\n",
              "\n",
              "    .dataframe thead th {\n",
              "        text-align: right;\n",
              "    }\n",
              "</style>\n",
              "<table border=\"1\" class=\"dataframe\">\n",
              "  <thead>\n",
              "    <tr style=\"text-align: right;\">\n",
              "      <th></th>\n",
              "      <th>0</th>\n",
              "      <th>1</th>\n",
              "      <th>2</th>\n",
              "      <th>3</th>\n",
              "      <th>4</th>\n",
              "      <th>5</th>\n",
              "      <th>6</th>\n",
              "      <th>7</th>\n",
              "      <th>8</th>\n",
              "      <th>9</th>\n",
              "      <th>10</th>\n",
              "      <th>11</th>\n",
              "      <th>12</th>\n",
              "      <th>13</th>\n",
              "      <th>14</th>\n",
              "      <th>15</th>\n",
              "      <th>16</th>\n",
              "      <th>17</th>\n",
              "      <th>18</th>\n",
              "      <th>19</th>\n",
              "      <th>20</th>\n",
              "      <th>21</th>\n",
              "      <th>22</th>\n",
              "      <th>23</th>\n",
              "      <th>24</th>\n",
              "      <th>25</th>\n",
              "      <th>26</th>\n",
              "      <th>27</th>\n",
              "      <th>28</th>\n",
              "      <th>29</th>\n",
              "      <th>30</th>\n",
              "      <th>31</th>\n",
              "      <th>32</th>\n",
              "      <th>33</th>\n",
              "      <th>34</th>\n",
              "      <th>35</th>\n",
              "      <th>36</th>\n",
              "      <th>37</th>\n",
              "      <th>38</th>\n",
              "      <th>39</th>\n",
              "      <th>...</th>\n",
              "      <th>260</th>\n",
              "      <th>261</th>\n",
              "      <th>262</th>\n",
              "      <th>263</th>\n",
              "      <th>264</th>\n",
              "      <th>265</th>\n",
              "      <th>266</th>\n",
              "      <th>267</th>\n",
              "      <th>268</th>\n",
              "      <th>269</th>\n",
              "      <th>270</th>\n",
              "      <th>271</th>\n",
              "      <th>272</th>\n",
              "      <th>273</th>\n",
              "      <th>274</th>\n",
              "      <th>275</th>\n",
              "      <th>276</th>\n",
              "      <th>277</th>\n",
              "      <th>278</th>\n",
              "      <th>279</th>\n",
              "      <th>280</th>\n",
              "      <th>281</th>\n",
              "      <th>282</th>\n",
              "      <th>283</th>\n",
              "      <th>284</th>\n",
              "      <th>285</th>\n",
              "      <th>286</th>\n",
              "      <th>287</th>\n",
              "      <th>288</th>\n",
              "      <th>289</th>\n",
              "      <th>290</th>\n",
              "      <th>291</th>\n",
              "      <th>292</th>\n",
              "      <th>293</th>\n",
              "      <th>294</th>\n",
              "      <th>295</th>\n",
              "      <th>296</th>\n",
              "      <th>297</th>\n",
              "      <th>298</th>\n",
              "      <th>299</th>\n",
              "    </tr>\n",
              "  </thead>\n",
              "  <tbody>\n",
              "    <tr>\n",
              "      <th>0</th>\n",
              "      <td>23</td>\n",
              "      <td>75</td>\n",
              "      <td>52</td>\n",
              "      <td>23</td>\n",
              "      <td>864</td>\n",
              "      <td>40</td>\n",
              "      <td>2</td>\n",
              "      <td>3043</td>\n",
              "      <td>178</td>\n",
              "      <td>40</td>\n",
              "      <td>87</td>\n",
              "      <td>4</td>\n",
              "      <td>99</td>\n",
              "      <td>16</td>\n",
              "      <td>1709</td>\n",
              "      <td>15</td>\n",
              "      <td>30</td>\n",
              "      <td>3379</td>\n",
              "      <td>3380</td>\n",
              "      <td>64</td>\n",
              "      <td>70</td>\n",
              "      <td>11</td>\n",
              "      <td>87</td>\n",
              "      <td>52</td>\n",
              "      <td>581</td>\n",
              "      <td>153</td>\n",
              "      <td>65</td>\n",
              "      <td>8</td>\n",
              "      <td>190</td>\n",
              "      <td>11</td>\n",
              "      <td>23</td>\n",
              "      <td>75</td>\n",
              "      <td>52</td>\n",
              "      <td>23</td>\n",
              "      <td>864</td>\n",
              "      <td>40</td>\n",
              "      <td>2</td>\n",
              "      <td>64</td>\n",
              "      <td>66</td>\n",
              "      <td>70</td>\n",
              "      <td>...</td>\n",
              "      <td>3</td>\n",
              "      <td>35</td>\n",
              "      <td>3</td>\n",
              "      <td>40</td>\n",
              "      <td>27</td>\n",
              "      <td>52</td>\n",
              "      <td>641</td>\n",
              "      <td>12</td>\n",
              "      <td>51</td>\n",
              "      <td>1302</td>\n",
              "      <td>404</td>\n",
              "      <td>93</td>\n",
              "      <td>3043</td>\n",
              "      <td>86</td>\n",
              "      <td>4443</td>\n",
              "      <td>86</td>\n",
              "      <td>106</td>\n",
              "      <td>7</td>\n",
              "      <td>200</td>\n",
              "      <td>1474</td>\n",
              "      <td>3</td>\n",
              "      <td>181</td>\n",
              "      <td>4</td>\n",
              "      <td>190</td>\n",
              "      <td>27</td>\n",
              "      <td>83</td>\n",
              "      <td>52</td>\n",
              "      <td>178</td>\n",
              "      <td>40</td>\n",
              "      <td>3</td>\n",
              "      <td>1410</td>\n",
              "      <td>40</td>\n",
              "      <td>36</td>\n",
              "      <td>1800</td>\n",
              "      <td>3</td>\n",
              "      <td>67</td>\n",
              "      <td>163</td>\n",
              "      <td>200</td>\n",
              "      <td>684</td>\n",
              "      <td>713</td>\n",
              "    </tr>\n",
              "    <tr>\n",
              "      <th>1</th>\n",
              "      <td>0</td>\n",
              "      <td>0</td>\n",
              "      <td>0</td>\n",
              "      <td>0</td>\n",
              "      <td>0</td>\n",
              "      <td>0</td>\n",
              "      <td>0</td>\n",
              "      <td>0</td>\n",
              "      <td>0</td>\n",
              "      <td>0</td>\n",
              "      <td>0</td>\n",
              "      <td>0</td>\n",
              "      <td>0</td>\n",
              "      <td>0</td>\n",
              "      <td>0</td>\n",
              "      <td>0</td>\n",
              "      <td>0</td>\n",
              "      <td>0</td>\n",
              "      <td>0</td>\n",
              "      <td>0</td>\n",
              "      <td>0</td>\n",
              "      <td>0</td>\n",
              "      <td>0</td>\n",
              "      <td>0</td>\n",
              "      <td>0</td>\n",
              "      <td>0</td>\n",
              "      <td>0</td>\n",
              "      <td>0</td>\n",
              "      <td>0</td>\n",
              "      <td>0</td>\n",
              "      <td>0</td>\n",
              "      <td>0</td>\n",
              "      <td>0</td>\n",
              "      <td>0</td>\n",
              "      <td>0</td>\n",
              "      <td>0</td>\n",
              "      <td>0</td>\n",
              "      <td>0</td>\n",
              "      <td>0</td>\n",
              "      <td>0</td>\n",
              "      <td>...</td>\n",
              "      <td>0</td>\n",
              "      <td>0</td>\n",
              "      <td>0</td>\n",
              "      <td>0</td>\n",
              "      <td>0</td>\n",
              "      <td>0</td>\n",
              "      <td>0</td>\n",
              "      <td>0</td>\n",
              "      <td>0</td>\n",
              "      <td>0</td>\n",
              "      <td>0</td>\n",
              "      <td>0</td>\n",
              "      <td>0</td>\n",
              "      <td>0</td>\n",
              "      <td>0</td>\n",
              "      <td>0</td>\n",
              "      <td>0</td>\n",
              "      <td>0</td>\n",
              "      <td>0</td>\n",
              "      <td>0</td>\n",
              "      <td>0</td>\n",
              "      <td>0</td>\n",
              "      <td>0</td>\n",
              "      <td>0</td>\n",
              "      <td>0</td>\n",
              "      <td>0</td>\n",
              "      <td>0</td>\n",
              "      <td>0</td>\n",
              "      <td>0</td>\n",
              "      <td>0</td>\n",
              "      <td>0</td>\n",
              "      <td>4444</td>\n",
              "      <td>85</td>\n",
              "      <td>2</td>\n",
              "      <td>2</td>\n",
              "      <td>94</td>\n",
              "      <td>28</td>\n",
              "      <td>1475</td>\n",
              "      <td>5</td>\n",
              "      <td>4445</td>\n",
              "    </tr>\n",
              "    <tr>\n",
              "      <th>2</th>\n",
              "      <td>0</td>\n",
              "      <td>0</td>\n",
              "      <td>0</td>\n",
              "      <td>0</td>\n",
              "      <td>0</td>\n",
              "      <td>0</td>\n",
              "      <td>0</td>\n",
              "      <td>0</td>\n",
              "      <td>0</td>\n",
              "      <td>0</td>\n",
              "      <td>0</td>\n",
              "      <td>0</td>\n",
              "      <td>0</td>\n",
              "      <td>0</td>\n",
              "      <td>0</td>\n",
              "      <td>0</td>\n",
              "      <td>0</td>\n",
              "      <td>0</td>\n",
              "      <td>0</td>\n",
              "      <td>0</td>\n",
              "      <td>0</td>\n",
              "      <td>0</td>\n",
              "      <td>0</td>\n",
              "      <td>0</td>\n",
              "      <td>0</td>\n",
              "      <td>0</td>\n",
              "      <td>0</td>\n",
              "      <td>0</td>\n",
              "      <td>0</td>\n",
              "      <td>0</td>\n",
              "      <td>0</td>\n",
              "      <td>0</td>\n",
              "      <td>0</td>\n",
              "      <td>0</td>\n",
              "      <td>0</td>\n",
              "      <td>0</td>\n",
              "      <td>0</td>\n",
              "      <td>0</td>\n",
              "      <td>0</td>\n",
              "      <td>0</td>\n",
              "      <td>...</td>\n",
              "      <td>0</td>\n",
              "      <td>0</td>\n",
              "      <td>0</td>\n",
              "      <td>0</td>\n",
              "      <td>0</td>\n",
              "      <td>0</td>\n",
              "      <td>0</td>\n",
              "      <td>0</td>\n",
              "      <td>0</td>\n",
              "      <td>0</td>\n",
              "      <td>0</td>\n",
              "      <td>0</td>\n",
              "      <td>0</td>\n",
              "      <td>0</td>\n",
              "      <td>0</td>\n",
              "      <td>0</td>\n",
              "      <td>0</td>\n",
              "      <td>0</td>\n",
              "      <td>0</td>\n",
              "      <td>0</td>\n",
              "      <td>0</td>\n",
              "      <td>0</td>\n",
              "      <td>0</td>\n",
              "      <td>0</td>\n",
              "      <td>0</td>\n",
              "      <td>0</td>\n",
              "      <td>0</td>\n",
              "      <td>0</td>\n",
              "      <td>0</td>\n",
              "      <td>0</td>\n",
              "      <td>1348</td>\n",
              "      <td>74</td>\n",
              "      <td>284</td>\n",
              "      <td>15</td>\n",
              "      <td>714</td>\n",
              "      <td>730</td>\n",
              "      <td>1618</td>\n",
              "      <td>2</td>\n",
              "      <td>2</td>\n",
              "      <td>6884</td>\n",
              "    </tr>\n",
              "    <tr>\n",
              "      <th>3</th>\n",
              "      <td>0</td>\n",
              "      <td>0</td>\n",
              "      <td>0</td>\n",
              "      <td>0</td>\n",
              "      <td>0</td>\n",
              "      <td>0</td>\n",
              "      <td>0</td>\n",
              "      <td>0</td>\n",
              "      <td>0</td>\n",
              "      <td>0</td>\n",
              "      <td>0</td>\n",
              "      <td>0</td>\n",
              "      <td>0</td>\n",
              "      <td>0</td>\n",
              "      <td>0</td>\n",
              "      <td>0</td>\n",
              "      <td>0</td>\n",
              "      <td>0</td>\n",
              "      <td>0</td>\n",
              "      <td>0</td>\n",
              "      <td>0</td>\n",
              "      <td>0</td>\n",
              "      <td>0</td>\n",
              "      <td>0</td>\n",
              "      <td>0</td>\n",
              "      <td>0</td>\n",
              "      <td>0</td>\n",
              "      <td>0</td>\n",
              "      <td>0</td>\n",
              "      <td>0</td>\n",
              "      <td>0</td>\n",
              "      <td>0</td>\n",
              "      <td>0</td>\n",
              "      <td>0</td>\n",
              "      <td>0</td>\n",
              "      <td>0</td>\n",
              "      <td>0</td>\n",
              "      <td>0</td>\n",
              "      <td>0</td>\n",
              "      <td>0</td>\n",
              "      <td>...</td>\n",
              "      <td>685</td>\n",
              "      <td>29</td>\n",
              "      <td>144</td>\n",
              "      <td>7</td>\n",
              "      <td>453</td>\n",
              "      <td>59</td>\n",
              "      <td>4</td>\n",
              "      <td>269</td>\n",
              "      <td>113</td>\n",
              "      <td>1098</td>\n",
              "      <td>3</td>\n",
              "      <td>1</td>\n",
              "      <td>153</td>\n",
              "      <td>219</td>\n",
              "      <td>1</td>\n",
              "      <td>3045</td>\n",
              "      <td>2180</td>\n",
              "      <td>2016</td>\n",
              "      <td>57</td>\n",
              "      <td>309</td>\n",
              "      <td>17</td>\n",
              "      <td>136</td>\n",
              "      <td>25</td>\n",
              "      <td>2766</td>\n",
              "      <td>3</td>\n",
              "      <td>1</td>\n",
              "      <td>3045</td>\n",
              "      <td>1260</td>\n",
              "      <td>277</td>\n",
              "      <td>27</td>\n",
              "      <td>4</td>\n",
              "      <td>269</td>\n",
              "      <td>106</td>\n",
              "      <td>12</td>\n",
              "      <td>804</td>\n",
              "      <td>45</td>\n",
              "      <td>61</td>\n",
              "      <td>4</td>\n",
              "      <td>315</td>\n",
              "      <td>243</td>\n",
              "    </tr>\n",
              "    <tr>\n",
              "      <th>4</th>\n",
              "      <td>0</td>\n",
              "      <td>0</td>\n",
              "      <td>0</td>\n",
              "      <td>0</td>\n",
              "      <td>0</td>\n",
              "      <td>0</td>\n",
              "      <td>0</td>\n",
              "      <td>0</td>\n",
              "      <td>0</td>\n",
              "      <td>0</td>\n",
              "      <td>0</td>\n",
              "      <td>0</td>\n",
              "      <td>0</td>\n",
              "      <td>0</td>\n",
              "      <td>0</td>\n",
              "      <td>0</td>\n",
              "      <td>0</td>\n",
              "      <td>0</td>\n",
              "      <td>0</td>\n",
              "      <td>0</td>\n",
              "      <td>0</td>\n",
              "      <td>0</td>\n",
              "      <td>0</td>\n",
              "      <td>0</td>\n",
              "      <td>0</td>\n",
              "      <td>0</td>\n",
              "      <td>0</td>\n",
              "      <td>0</td>\n",
              "      <td>0</td>\n",
              "      <td>0</td>\n",
              "      <td>0</td>\n",
              "      <td>0</td>\n",
              "      <td>0</td>\n",
              "      <td>0</td>\n",
              "      <td>0</td>\n",
              "      <td>0</td>\n",
              "      <td>0</td>\n",
              "      <td>0</td>\n",
              "      <td>0</td>\n",
              "      <td>0</td>\n",
              "      <td>...</td>\n",
              "      <td>0</td>\n",
              "      <td>0</td>\n",
              "      <td>0</td>\n",
              "      <td>0</td>\n",
              "      <td>0</td>\n",
              "      <td>0</td>\n",
              "      <td>0</td>\n",
              "      <td>0</td>\n",
              "      <td>0</td>\n",
              "      <td>0</td>\n",
              "      <td>0</td>\n",
              "      <td>0</td>\n",
              "      <td>0</td>\n",
              "      <td>0</td>\n",
              "      <td>0</td>\n",
              "      <td>0</td>\n",
              "      <td>0</td>\n",
              "      <td>0</td>\n",
              "      <td>0</td>\n",
              "      <td>0</td>\n",
              "      <td>0</td>\n",
              "      <td>0</td>\n",
              "      <td>0</td>\n",
              "      <td>0</td>\n",
              "      <td>0</td>\n",
              "      <td>0</td>\n",
              "      <td>0</td>\n",
              "      <td>0</td>\n",
              "      <td>0</td>\n",
              "      <td>0</td>\n",
              "      <td>0</td>\n",
              "      <td>0</td>\n",
              "      <td>0</td>\n",
              "      <td>0</td>\n",
              "      <td>0</td>\n",
              "      <td>109</td>\n",
              "      <td>681</td>\n",
              "      <td>15</td>\n",
              "      <td>1</td>\n",
              "      <td>405</td>\n",
              "    </tr>\n",
              "  </tbody>\n",
              "</table>\n",
              "<p>5 rows × 300 columns</p>\n",
              "</div>"
            ],
            "text/plain": [
              "   0    1    2    3    4    5    6    ...   293  294  295   296   297  298   299\n",
              "0   23   75   52   23  864   40    2  ...  1800    3   67   163   200  684   713\n",
              "1    0    0    0    0    0    0    0  ...     2    2   94    28  1475    5  4445\n",
              "2    0    0    0    0    0    0    0  ...    15  714  730  1618     2    2  6884\n",
              "3    0    0    0    0    0    0    0  ...    12  804   45    61     4  315   243\n",
              "4    0    0    0    0    0    0    0  ...     0    0  109   681    15    1   405\n",
              "\n",
              "[5 rows x 300 columns]"
            ]
          },
          "metadata": {
            "tags": []
          },
          "execution_count": 493
        }
      ]
    },
    {
      "cell_type": "code",
      "metadata": {
        "id": "6QJqX-Z5wL-W",
        "colab": {
          "base_uri": "https://localhost:8080/"
        },
        "outputId": "94f8b2b6-384c-4988-c05e-a39d015a90a0"
      },
      "source": [
        "X_test.shape"
      ],
      "execution_count": 494,
      "outputs": [
        {
          "output_type": "execute_result",
          "data": {
            "text/plain": [
              "(1000, 300)"
            ]
          },
          "metadata": {
            "tags": []
          },
          "execution_count": 494
        }
      ]
    },
    {
      "cell_type": "markdown",
      "metadata": {
        "id": "wAOvV9C_KMRl"
      },
      "source": [
        "# Build the Graph"
      ]
    },
    {
      "cell_type": "code",
      "metadata": {
        "id": "pWtUZzM3KMRs"
      },
      "source": [
        "#Initialize model\n",
        "tf.keras.backend.clear_session()\n",
        "model = tf.keras.Sequential()"
      ],
      "execution_count": 495,
      "outputs": []
    },
    {
      "cell_type": "markdown",
      "metadata": {
        "id": "DF_wJp6sKMRv"
      },
      "source": [
        "Add Embedding layer\n",
        " - Embedding Layer Input = Batch_Size * Length of each review"
      ]
    },
    {
      "cell_type": "code",
      "metadata": {
        "id": "iignS5XqKMRv"
      },
      "source": [
        "model.add(tf.keras.layers.Embedding(top_words + 1, #Vocablury size\n",
        "                                    50, #Embedding size\n",
        "                                    input_length=max_review_length) #Number of words in each review\n",
        "          )"
      ],
      "execution_count": 496,
      "outputs": []
    },
    {
      "cell_type": "code",
      "metadata": {
        "id": "9esFq2mNZfFZ",
        "colab": {
          "base_uri": "https://localhost:8080/"
        },
        "outputId": "b54f41e0-2085-4e2f-b3e9-9ac0fb4f1ed2"
      },
      "source": [
        "model.output"
      ],
      "execution_count": 497,
      "outputs": [
        {
          "output_type": "execute_result",
          "data": {
            "text/plain": [
              "<KerasTensor: shape=(None, 300, 50) dtype=float32 (created by layer 'embedding')>"
            ]
          },
          "metadata": {
            "tags": []
          },
          "execution_count": 497
        }
      ]
    },
    {
      "cell_type": "markdown",
      "metadata": {
        "id": "FyKoymftKMRz"
      },
      "source": [
        "Embedding Layer Output - \n",
        "[Batch_Size , Review Length , Embedding_Size]"
      ]
    },
    {
      "cell_type": "markdown",
      "metadata": {
        "id": "d1Y5Yh8gKMR0"
      },
      "source": [
        "Add LSTM Layer with 256 as RNN state size"
      ]
    },
    {
      "cell_type": "code",
      "metadata": {
        "id": "qM790P-8lwoi"
      },
      "source": [
        "model.add(tf.keras.layers.Dropout(0.4))"
      ],
      "execution_count": 498,
      "outputs": []
    },
    {
      "cell_type": "code",
      "metadata": {
        "id": "YLrE_hSGKMR2"
      },
      "source": [
        "model.add(tf.keras.layers.LSTM(64,dropout=0.4)) #RNN State - size of cell state and hidden state"
      ],
      "execution_count": 499,
      "outputs": []
    },
    {
      "cell_type": "code",
      "metadata": {
        "id": "lWABotFJac4J",
        "colab": {
          "base_uri": "https://localhost:8080/"
        },
        "outputId": "28a12dc9-2252-402c-e593-959953f70dc7"
      },
      "source": [
        "model.output"
      ],
      "execution_count": 500,
      "outputs": [
        {
          "output_type": "execute_result",
          "data": {
            "text/plain": [
              "<KerasTensor: shape=(None, 64) dtype=float32 (created by layer 'lstm')>"
            ]
          },
          "metadata": {
            "tags": []
          },
          "execution_count": 500
        }
      ]
    },
    {
      "cell_type": "markdown",
      "metadata": {
        "id": "xi79uySUOS5u"
      },
      "source": [
        "Use Dense layer for output layer"
      ]
    },
    {
      "cell_type": "code",
      "metadata": {
        "id": "ZqMd1GbPmAC4"
      },
      "source": [
        "model.add(tf.keras.layers.Dropout(0.4))"
      ],
      "execution_count": 501,
      "outputs": []
    },
    {
      "cell_type": "code",
      "metadata": {
        "id": "MJ-o1jtUKMR6"
      },
      "source": [
        "model.add(tf.keras.layers.Dense(1,activation='sigmoid'))"
      ],
      "execution_count": 502,
      "outputs": []
    },
    {
      "cell_type": "code",
      "metadata": {
        "id": "GobXBLHXKMR9"
      },
      "source": [
        "#Compile the model\n",
        "model.compile(optimizer='adam',loss='binary_crossentropy',metrics=['accuracy',tf.keras.metrics.Recall()])"
      ],
      "execution_count": 503,
      "outputs": []
    },
    {
      "cell_type": "code",
      "metadata": {
        "id": "iueK1G3pOznW",
        "colab": {
          "base_uri": "https://localhost:8080/"
        },
        "outputId": "1c9f1d48-78c2-46a9-da44-2bde3510d874"
      },
      "source": [
        "model.summary()"
      ],
      "execution_count": 504,
      "outputs": [
        {
          "output_type": "stream",
          "text": [
            "Model: \"sequential\"\n",
            "_________________________________________________________________\n",
            "Layer (type)                 Output Shape              Param #   \n",
            "=================================================================\n",
            "embedding (Embedding)        (None, 300, 50)           500050    \n",
            "_________________________________________________________________\n",
            "dropout (Dropout)            (None, 300, 50)           0         \n",
            "_________________________________________________________________\n",
            "lstm (LSTM)                  (None, 64)                29440     \n",
            "_________________________________________________________________\n",
            "dropout_1 (Dropout)          (None, 64)                0         \n",
            "_________________________________________________________________\n",
            "dense (Dense)                (None, 1)                 65        \n",
            "=================================================================\n",
            "Total params: 529,555\n",
            "Trainable params: 529,555\n",
            "Non-trainable params: 0\n",
            "_________________________________________________________________\n"
          ],
          "name": "stdout"
        }
      ]
    },
    {
      "cell_type": "markdown",
      "metadata": {
        "id": "j_aH5TX5KMSA"
      },
      "source": [
        "# Execute the graph"
      ]
    },
    {
      "cell_type": "code",
      "metadata": {
        "scrolled": true,
        "id": "AV3TceqjKMSC",
        "colab": {
          "base_uri": "https://localhost:8080/"
        },
        "outputId": "6a304686-be25-45e0-c7fa-ce8722d3aedf"
      },
      "source": [
        "model.fit(X_train,y_train,\n",
        "          epochs=10,\n",
        "          batch_size=64,          \n",
        "          validation_data=(X_test, y_test))"
      ],
      "execution_count": 505,
      "outputs": [
        {
          "output_type": "stream",
          "text": [
            "Epoch 1/10\n",
            "63/63 [==============================] - 4s 34ms/step - loss: 0.3854 - accuracy: 0.9070 - recall: 0.0323 - val_loss: 0.3155 - val_accuracy: 0.9040 - val_recall: 0.0000e+00\n",
            "Epoch 2/10\n",
            "63/63 [==============================] - 1s 23ms/step - loss: 0.2794 - accuracy: 0.9150 - recall: 0.0029 - val_loss: 0.2663 - val_accuracy: 0.9050 - val_recall: 0.0104\n",
            "Epoch 3/10\n",
            "63/63 [==============================] - 1s 23ms/step - loss: 0.2092 - accuracy: 0.9245 - recall: 0.1173 - val_loss: 0.2164 - val_accuracy: 0.9200 - val_recall: 0.1875\n",
            "Epoch 4/10\n",
            "63/63 [==============================] - 1s 24ms/step - loss: 0.1460 - accuracy: 0.9423 - recall: 0.3607 - val_loss: 0.1864 - val_accuracy: 0.9280 - val_recall: 0.2917\n",
            "Epoch 5/10\n",
            "63/63 [==============================] - 1s 23ms/step - loss: 0.1049 - accuracy: 0.9595 - recall: 0.5748 - val_loss: 0.1820 - val_accuracy: 0.9430 - val_recall: 0.4896\n",
            "Epoch 6/10\n",
            "63/63 [==============================] - 1s 23ms/step - loss: 0.0695 - accuracy: 0.9737 - recall: 0.7801 - val_loss: 0.1706 - val_accuracy: 0.9430 - val_recall: 0.5312\n",
            "Epoch 7/10\n",
            "63/63 [==============================] - 1s 23ms/step - loss: 0.0511 - accuracy: 0.9865 - recall: 0.8915 - val_loss: 0.2019 - val_accuracy: 0.9490 - val_recall: 0.5208\n",
            "Epoch 8/10\n",
            "63/63 [==============================] - 1s 23ms/step - loss: 0.0369 - accuracy: 0.9880 - recall: 0.9091 - val_loss: 0.1992 - val_accuracy: 0.9460 - val_recall: 0.5417\n",
            "Epoch 9/10\n",
            "63/63 [==============================] - 1s 23ms/step - loss: 0.0264 - accuracy: 0.9927 - recall: 0.9531 - val_loss: 0.2284 - val_accuracy: 0.9450 - val_recall: 0.4896\n",
            "Epoch 10/10\n",
            "63/63 [==============================] - 1s 23ms/step - loss: 0.0240 - accuracy: 0.9927 - recall: 0.9443 - val_loss: 0.2156 - val_accuracy: 0.9420 - val_recall: 0.5729\n"
          ],
          "name": "stdout"
        },
        {
          "output_type": "execute_result",
          "data": {
            "text/plain": [
              "<tensorflow.python.keras.callbacks.History at 0x7f363b39f110>"
            ]
          },
          "metadata": {
            "tags": []
          },
          "execution_count": 505
        }
      ]
    },
    {
      "cell_type": "code",
      "metadata": {
        "id": "LSZgeynIY9e-"
      },
      "source": [
        ""
      ],
      "execution_count": 505,
      "outputs": []
    },
    {
      "cell_type": "code",
      "metadata": {
        "id": "m7U__yAuZ2v4"
      },
      "source": [
        ""
      ],
      "execution_count": 505,
      "outputs": []
    },
    {
      "cell_type": "code",
      "metadata": {
        "id": "lfLROKx0YmQr"
      },
      "source": [
        "import pandas as pd, numpy as np\n",
        "import re"
      ],
      "execution_count": 506,
      "outputs": []
    },
    {
      "cell_type": "code",
      "metadata": {
        "id": "wQBAWmdIYmQt"
      },
      "source": [
        "train0 = pd.read_csv('train.csv')"
      ],
      "execution_count": 507,
      "outputs": []
    },
    {
      "cell_type": "code",
      "metadata": {
        "id": "4xuBQjneYmQu",
        "colab": {
          "base_uri": "https://localhost:8080/",
          "height": 203
        },
        "outputId": "15a6a208-e89f-4f95-ecd6-91a2c958684f"
      },
      "source": [
        "train0.head()"
      ],
      "execution_count": 508,
      "outputs": [
        {
          "output_type": "execute_result",
          "data": {
            "text/html": [
              "<div>\n",
              "<style scoped>\n",
              "    .dataframe tbody tr th:only-of-type {\n",
              "        vertical-align: middle;\n",
              "    }\n",
              "\n",
              "    .dataframe tbody tr th {\n",
              "        vertical-align: top;\n",
              "    }\n",
              "\n",
              "    .dataframe thead th {\n",
              "        text-align: right;\n",
              "    }\n",
              "</style>\n",
              "<table border=\"1\" class=\"dataframe\">\n",
              "  <thead>\n",
              "    <tr style=\"text-align: right;\">\n",
              "      <th></th>\n",
              "      <th>id</th>\n",
              "      <th>comment_text</th>\n",
              "      <th>toxic</th>\n",
              "    </tr>\n",
              "  </thead>\n",
              "  <tbody>\n",
              "    <tr>\n",
              "      <th>0</th>\n",
              "      <td>e617e2489abe9bca</td>\n",
              "      <td>\"\\r\\n\\r\\n A barnstar for you! \\r\\n\\r\\n  The De...</td>\n",
              "      <td>0</td>\n",
              "    </tr>\n",
              "    <tr>\n",
              "      <th>1</th>\n",
              "      <td>9250cf637294e09d</td>\n",
              "      <td>\"\\r\\n\\r\\nThis seems unbalanced.  whatever I ha...</td>\n",
              "      <td>0</td>\n",
              "    </tr>\n",
              "    <tr>\n",
              "      <th>2</th>\n",
              "      <td>ce1aa4592d5240ca</td>\n",
              "      <td>Marya Dzmitruk was born in Minsk, Belarus in M...</td>\n",
              "      <td>0</td>\n",
              "    </tr>\n",
              "    <tr>\n",
              "      <th>3</th>\n",
              "      <td>48105766ff7f075b</td>\n",
              "      <td>\"\\r\\n\\r\\nTalkback\\r\\n\\r\\n Dear Celestia...  \"</td>\n",
              "      <td>0</td>\n",
              "    </tr>\n",
              "    <tr>\n",
              "      <th>4</th>\n",
              "      <td>0543d4f82e5470b6</td>\n",
              "      <td>New Categories \\r\\n\\r\\nI honestly think that w...</td>\n",
              "      <td>0</td>\n",
              "    </tr>\n",
              "  </tbody>\n",
              "</table>\n",
              "</div>"
            ],
            "text/plain": [
              "                 id                                       comment_text  toxic\n",
              "0  e617e2489abe9bca  \"\\r\\n\\r\\n A barnstar for you! \\r\\n\\r\\n  The De...      0\n",
              "1  9250cf637294e09d  \"\\r\\n\\r\\nThis seems unbalanced.  whatever I ha...      0\n",
              "2  ce1aa4592d5240ca  Marya Dzmitruk was born in Minsk, Belarus in M...      0\n",
              "3  48105766ff7f075b      \"\\r\\n\\r\\nTalkback\\r\\n\\r\\n Dear Celestia...  \"      0\n",
              "4  0543d4f82e5470b6  New Categories \\r\\n\\r\\nI honestly think that w...      0"
            ]
          },
          "metadata": {
            "tags": []
          },
          "execution_count": 508
        }
      ]
    },
    {
      "cell_type": "code",
      "metadata": {
        "id": "Yn_Fx5rMYmQv",
        "colab": {
          "base_uri": "https://localhost:8080/",
          "height": 295
        },
        "outputId": "923ba176-a6a0-4079-e793-0bd758bf48f4"
      },
      "source": [
        "train0.describe()"
      ],
      "execution_count": 509,
      "outputs": [
        {
          "output_type": "execute_result",
          "data": {
            "text/html": [
              "<div>\n",
              "<style scoped>\n",
              "    .dataframe tbody tr th:only-of-type {\n",
              "        vertical-align: middle;\n",
              "    }\n",
              "\n",
              "    .dataframe tbody tr th {\n",
              "        vertical-align: top;\n",
              "    }\n",
              "\n",
              "    .dataframe thead th {\n",
              "        text-align: right;\n",
              "    }\n",
              "</style>\n",
              "<table border=\"1\" class=\"dataframe\">\n",
              "  <thead>\n",
              "    <tr style=\"text-align: right;\">\n",
              "      <th></th>\n",
              "      <th>toxic</th>\n",
              "    </tr>\n",
              "  </thead>\n",
              "  <tbody>\n",
              "    <tr>\n",
              "      <th>count</th>\n",
              "      <td>5000.000000</td>\n",
              "    </tr>\n",
              "    <tr>\n",
              "      <th>mean</th>\n",
              "      <td>0.087400</td>\n",
              "    </tr>\n",
              "    <tr>\n",
              "      <th>std</th>\n",
              "      <td>0.282449</td>\n",
              "    </tr>\n",
              "    <tr>\n",
              "      <th>min</th>\n",
              "      <td>0.000000</td>\n",
              "    </tr>\n",
              "    <tr>\n",
              "      <th>25%</th>\n",
              "      <td>0.000000</td>\n",
              "    </tr>\n",
              "    <tr>\n",
              "      <th>50%</th>\n",
              "      <td>0.000000</td>\n",
              "    </tr>\n",
              "    <tr>\n",
              "      <th>75%</th>\n",
              "      <td>0.000000</td>\n",
              "    </tr>\n",
              "    <tr>\n",
              "      <th>max</th>\n",
              "      <td>1.000000</td>\n",
              "    </tr>\n",
              "  </tbody>\n",
              "</table>\n",
              "</div>"
            ],
            "text/plain": [
              "             toxic\n",
              "count  5000.000000\n",
              "mean      0.087400\n",
              "std       0.282449\n",
              "min       0.000000\n",
              "25%       0.000000\n",
              "50%       0.000000\n",
              "75%       0.000000\n",
              "max       1.000000"
            ]
          },
          "metadata": {
            "tags": []
          },
          "execution_count": 509
        }
      ]
    },
    {
      "cell_type": "code",
      "metadata": {
        "id": "T0CjO4aEYmQw",
        "colab": {
          "base_uri": "https://localhost:8080/"
        },
        "outputId": "95e7a272-b4b8-4f15-9b32-f27fc5256fb3"
      },
      "source": [
        "#About 22% records are toxic\n",
        "train0.describe().sum(axis=1)"
      ],
      "execution_count": 510,
      "outputs": [
        {
          "output_type": "execute_result",
          "data": {
            "text/plain": [
              "count    5000.000000\n",
              "mean        0.087400\n",
              "std         0.282449\n",
              "min         0.000000\n",
              "25%         0.000000\n",
              "50%         0.000000\n",
              "75%         0.000000\n",
              "max         1.000000\n",
              "dtype: float64"
            ]
          },
          "metadata": {
            "tags": []
          },
          "execution_count": 510
        }
      ]
    },
    {
      "cell_type": "markdown",
      "metadata": {
        "id": "bUQfboyAYmQx"
      },
      "source": [
        "#### Converting to list for easy manipulation"
      ]
    },
    {
      "cell_type": "code",
      "metadata": {
        "id": "gri_anrLYmQx"
      },
      "source": [
        "comments = train0.comment_text.values"
      ],
      "execution_count": 511,
      "outputs": []
    },
    {
      "cell_type": "code",
      "metadata": {
        "id": "LDyXj5KVYmQy",
        "colab": {
          "base_uri": "https://localhost:8080/"
        },
        "outputId": "ff63f529-04e1-4a32-a7f6-288a361b7b28"
      },
      "source": [
        "len(comments)"
      ],
      "execution_count": 512,
      "outputs": [
        {
          "output_type": "execute_result",
          "data": {
            "text/plain": [
              "5000"
            ]
          },
          "metadata": {
            "tags": []
          },
          "execution_count": 512
        }
      ]
    },
    {
      "cell_type": "markdown",
      "metadata": {
        "id": "eATL6DeDYmQz"
      },
      "source": [
        "### Text clean up \n",
        "- Using Regular expressions, remove IP addresses  \n",
        "- Using Regular expressions, remove URLs  \n",
        "- Normalize the case  \n",
        "- Remove stop words  \n",
        "- Remove punctuations"
      ]
    },
    {
      "cell_type": "markdown",
      "metadata": {
        "id": "i0cz4ZWeYmQ0"
      },
      "source": [
        "Removing ip address"
      ]
    },
    {
      "cell_type": "code",
      "metadata": {
        "id": "zzszyaI3YmQ0",
        "colab": {
          "base_uri": "https://localhost:8080/",
          "height": 35
        },
        "outputId": "6349a435-b9c4-4a92-999f-591597bf11fa"
      },
      "source": [
        "re.sub('[\\d+\\.{3}]\\d+',\"\",\"My ip is 127.0.0.9, friend\")"
      ],
      "execution_count": 513,
      "outputs": [
        {
          "output_type": "execute_result",
          "data": {
            "application/vnd.google.colaboratory.intrinsic+json": {
              "type": "string"
            },
            "text/plain": [
              "'My ip is , friend'"
            ]
          },
          "metadata": {
            "tags": []
          },
          "execution_count": 513
        }
      ]
    },
    {
      "cell_type": "code",
      "metadata": {
        "id": "krv5VO7LYmQ1"
      },
      "source": [
        "comments_noip = [re.sub('[\\d+\\.{3}]\\d+',\"\",txt) for txt in comments]"
      ],
      "execution_count": 514,
      "outputs": []
    },
    {
      "cell_type": "markdown",
      "metadata": {
        "id": "pr7_5RzmYmQ1"
      },
      "source": [
        "Normalizing case"
      ]
    },
    {
      "cell_type": "code",
      "metadata": {
        "id": "y-dEm_OeYmQ2"
      },
      "source": [
        "comments_lower = [txt.lower() for txt in comments_noip]"
      ],
      "execution_count": 515,
      "outputs": []
    },
    {
      "cell_type": "code",
      "metadata": {
        "id": "pXu05NqjYmQ2",
        "colab": {
          "base_uri": "https://localhost:8080/"
        },
        "outputId": "b9d95593-bc1f-4748-c298-1da3663f8a99"
      },
      "source": [
        "comments_lower[2:4]"
      ],
      "execution_count": 516,
      "outputs": [
        {
          "output_type": "execute_result",
          "data": {
            "text/plain": [
              "['marya dzmitruk was born in minsk, belarus in march , . her mother, olga nikolaevna moroz was born in baranovichi, belarus and her father was born in brest, belarus. she is second child in the family. her parents divorced in  and soon after her father remarried and had two more children. \\r\\nmarya, at the age of 4 began doing gymnastics, but quit two years later because she was denied a medal in a competition, where her age was incorrectly marked. when she turned 6 years old, she got admitted to music school #4 in minsk, class of violin, and to public school # with piano classes as a main course. at the age of , marya starred in belarusfilm movie called “dunechka”. soon after she started to play in theatre and was featured in television shows. by  her mother decided to move to united states. in september of  marya went to her first american school, ingrid b. lacy middle school. she graduated in spring  and traveled back to belarus for 2 months. in august  she went to oceana high school, from which she will graduate in . \\r\\n\\r\\nmarya dzmitruk is a member of isar (international society for astrological research), also a member of a non-profit government organization which deals with human rights abuse throughout the world (also known as helsinki committee). marya holds two diplomas from music schools, four scholarships for lisa spector’s music school and several awards from yli (youth leadership institute). \\r\\n\\r\\nmarya has a very close relationship with her mother. her personal life is “as happy as it could possibly get” a source says. she is currently dating alex k., from odessa, ukraine. \\r\\n\\r\\nmarya currently attends school and works for isar and helsinki committee at her own free time.',\n",
              " '\"\\r\\n\\r\\ntalkback\\r\\n\\r\\n dear celestia...  \"']"
            ]
          },
          "metadata": {
            "tags": []
          },
          "execution_count": 516
        }
      ]
    },
    {
      "cell_type": "markdown",
      "metadata": {
        "id": "08N-O-syYmQ3"
      },
      "source": [
        "Remove URLs"
      ]
    },
    {
      "cell_type": "code",
      "metadata": {
        "id": "bgsRoCSWYmQ3"
      },
      "source": [
        "comments_nourl = [re.sub(\"\\w+://\\S+\",\"\", txt) for txt in comments_lower]"
      ],
      "execution_count": 517,
      "outputs": []
    },
    {
      "cell_type": "code",
      "metadata": {
        "id": "uPQwlIx1YmQ3"
      },
      "source": [
        "comments_nourl = [txt.replace(\"\\'\",\"\") for txt in comments_nourl]"
      ],
      "execution_count": 518,
      "outputs": []
    },
    {
      "cell_type": "markdown",
      "metadata": {
        "id": "ApNR5zLvYmQ3"
      },
      "source": [
        "Remove extra line breaks"
      ]
    },
    {
      "cell_type": "markdown",
      "metadata": {
        "id": "CXQnM2sKYmQ3"
      },
      "source": [
        "#### Tokenize"
      ]
    },
    {
      "cell_type": "code",
      "metadata": {
        "id": "n3SnBkCLYmQ4"
      },
      "source": [
        "from nltk.tokenize import word_tokenize"
      ],
      "execution_count": 519,
      "outputs": []
    },
    {
      "cell_type": "code",
      "metadata": {
        "colab": {
          "base_uri": "https://localhost:8080/"
        },
        "id": "3Ay2-Ga9bQyV",
        "outputId": "5f251ad1-b5d8-49c6-811c-e29ae08c079e"
      },
      "source": [
        "import nltk\n",
        "nltk.download('punkt')"
      ],
      "execution_count": 520,
      "outputs": [
        {
          "output_type": "stream",
          "text": [
            "[nltk_data] Downloading package punkt to /root/nltk_data...\n",
            "[nltk_data]   Package punkt is already up-to-date!\n"
          ],
          "name": "stdout"
        },
        {
          "output_type": "execute_result",
          "data": {
            "text/plain": [
              "True"
            ]
          },
          "metadata": {
            "tags": []
          },
          "execution_count": 520
        }
      ]
    },
    {
      "cell_type": "code",
      "metadata": {
        "id": "w4LgXnsqYmQ4",
        "colab": {
          "base_uri": "https://localhost:8080/"
        },
        "outputId": "69b00ba9-147a-46fb-97af-23661032545b"
      },
      "source": [
        "print(word_tokenize(comments_nourl[0]))"
      ],
      "execution_count": 521,
      "outputs": [
        {
          "output_type": "stream",
          "text": [
            "['``', 'a', 'barnstar', 'for', 'you', '!', 'the', 'defender', 'of', 'the', 'wiki', 'barnstar', 'i', 'like', 'your', 'edit', 'on', 'the', 'kayastha', 'page', '.', 'lets', 'form', 'a', 'solidarity', 'group', 'against', 'those', 'who', 'malign', 'the', 'article', 'and', 'its', 'subject', 'matter', '.', 'i', 'propose', 'the', 'folloing', 'name', 'for', 'the', 'group', '.', 'united', 'intellectuals', 'front', 'of', 'kayastha', 'ethinicty', 'against', 'racist', 'or', 'castist', 'abuse', '(', 'uifkearca', ')', '``']\n"
          ],
          "name": "stdout"
        }
      ]
    },
    {
      "cell_type": "code",
      "metadata": {
        "id": "7YzJwBwqYmQ4",
        "colab": {
          "base_uri": "https://localhost:8080/"
        },
        "outputId": "42012f65-daab-4e90-803a-830daccacae2"
      },
      "source": [
        "comment_tokens = [word_tokenize(sent) for sent in comments_nourl]\n",
        "print(comment_tokens[0])"
      ],
      "execution_count": 522,
      "outputs": [
        {
          "output_type": "stream",
          "text": [
            "['``', 'a', 'barnstar', 'for', 'you', '!', 'the', 'defender', 'of', 'the', 'wiki', 'barnstar', 'i', 'like', 'your', 'edit', 'on', 'the', 'kayastha', 'page', '.', 'lets', 'form', 'a', 'solidarity', 'group', 'against', 'those', 'who', 'malign', 'the', 'article', 'and', 'its', 'subject', 'matter', '.', 'i', 'propose', 'the', 'folloing', 'name', 'for', 'the', 'group', '.', 'united', 'intellectuals', 'front', 'of', 'kayastha', 'ethinicty', 'against', 'racist', 'or', 'castist', 'abuse', '(', 'uifkearca', ')', '``']\n"
          ],
          "name": "stdout"
        }
      ]
    },
    {
      "cell_type": "markdown",
      "metadata": {
        "id": "XQA-jKojYmQ5"
      },
      "source": [
        "### Remove stop words and punctuations"
      ]
    },
    {
      "cell_type": "code",
      "metadata": {
        "id": "BkA7kvEZYmQ5",
        "colab": {
          "base_uri": "https://localhost:8080/"
        },
        "outputId": "fbabe1bd-a2b9-4645-db6a-d2fbc5279dd9"
      },
      "source": [
        "from nltk.corpus import stopwords\n",
        "from string import punctuation\n",
        "nltk.download('stopwords')"
      ],
      "execution_count": 523,
      "outputs": [
        {
          "output_type": "stream",
          "text": [
            "[nltk_data] Downloading package stopwords to /root/nltk_data...\n",
            "[nltk_data]   Package stopwords is already up-to-date!\n"
          ],
          "name": "stdout"
        },
        {
          "output_type": "execute_result",
          "data": {
            "text/plain": [
              "True"
            ]
          },
          "metadata": {
            "tags": []
          },
          "execution_count": 523
        }
      ]
    },
    {
      "cell_type": "code",
      "metadata": {
        "id": "hqVYMKbdYmQ5"
      },
      "source": [
        "stop_nltk = stopwords.words(\"english\")\n",
        "stop_punct = list(punctuation)"
      ],
      "execution_count": 524,
      "outputs": []
    },
    {
      "cell_type": "code",
      "metadata": {
        "id": "vIDYoYqRYmQ5"
      },
      "source": [
        "stop_final = stop_nltk + stop_punct + [\"...\", \"``\",\"''\", \"====\", \"must\"]"
      ],
      "execution_count": 525,
      "outputs": []
    },
    {
      "cell_type": "code",
      "metadata": {
        "id": "CXULK0paYmQ5"
      },
      "source": [
        "def del_stop(sent):\n",
        "    return [term for term in sent if term not in stop_final]"
      ],
      "execution_count": 526,
      "outputs": []
    },
    {
      "cell_type": "code",
      "metadata": {
        "scrolled": true,
        "id": "-l9McnFOYmQ5",
        "colab": {
          "base_uri": "https://localhost:8080/"
        },
        "outputId": "b73aac60-e564-457a-96ee-cbeedb30fbe4"
      },
      "source": [
        "del_stop(comment_tokens[1])"
      ],
      "execution_count": 527,
      "outputs": [
        {
          "output_type": "execute_result",
          "data": {
            "text/plain": [
              "['seems',\n",
              " 'unbalanced',\n",
              " 'whatever',\n",
              " 'said',\n",
              " 'mathsci',\n",
              " 'said',\n",
              " 'far',\n",
              " 'extreme',\n",
              " 'unpleasant',\n",
              " 'things',\n",
              " 'mention',\n",
              " 'others',\n",
              " 'much',\n",
              " 'greater',\n",
              " 'frequency',\n",
              " 'im',\n",
              " 'happy',\n",
              " 'reign',\n",
              " 'thats',\n",
              " 'youd',\n",
              " 'like',\n",
              " 'ruth',\n",
              " 'told',\n",
              " 'trying',\n",
              " 'get',\n",
              " 'mathsci',\n",
              " 'pay',\n",
              " 'attention',\n",
              " 'stop',\n",
              " 'uncivil',\n",
              " 'would',\n",
              " 'expect',\n",
              " 'issue',\n",
              " 'request',\n",
              " 'mathsci',\n",
              " 'intentionally',\n",
              " 'unbalanced',\n",
              " 'whatever',\n",
              " 'reason',\n",
              " 'please',\n",
              " 'let',\n",
              " 'know',\n",
              " 'voluntarily',\n",
              " 'close',\n",
              " 'account',\n",
              " 'move',\n",
              " 'things',\n",
              " 'like',\n",
              " 'wikipedia',\n",
              " 'lot',\n",
              " 'contribute',\n",
              " 'way',\n",
              " 'point',\n",
              " 'contributing',\n",
              " 'project',\n",
              " 'editors',\n",
              " 'administrative',\n",
              " 'leave',\n",
              " 'aggressively',\n",
              " 'rude',\n",
              " 'im',\n",
              " 'good',\n",
              " 'editor',\n",
              " 'dont',\n",
              " 'really',\n",
              " 'deserve',\n",
              " 'people',\n",
              " 'riding',\n",
              " 'ass',\n",
              " 'every',\n",
              " 'time',\n",
              " 'try',\n",
              " 'certain',\n",
              " 'things',\n",
              " 'ill',\n",
              " 'happily',\n",
              " 'leave',\n",
              " 'hands',\n",
              " 'drama-prone',\n",
              " 'thats',\n",
              " 'think',\n",
              " 'best',\n",
              " 'ludwigs2']"
            ]
          },
          "metadata": {
            "tags": []
          },
          "execution_count": 527
        }
      ]
    },
    {
      "cell_type": "code",
      "metadata": {
        "id": "LUiTEKfwYmQ6"
      },
      "source": [
        "comments_clean = [del_stop(sent) for sent in comment_tokens]"
      ],
      "execution_count": 528,
      "outputs": []
    },
    {
      "cell_type": "markdown",
      "metadata": {
        "id": "ZKzgycCnYmQ6"
      },
      "source": [
        "### Checking out the top terms in the data"
      ]
    },
    {
      "cell_type": "code",
      "metadata": {
        "id": "95kTfOeuYmQ6"
      },
      "source": [
        "from collections import Counter"
      ],
      "execution_count": 529,
      "outputs": []
    },
    {
      "cell_type": "code",
      "metadata": {
        "id": "Gynp1i7EYmQ6"
      },
      "source": [
        "term_list = []\n",
        "for sent in comments_clean:\n",
        "    term_list.extend(sent)"
      ],
      "execution_count": 530,
      "outputs": []
    },
    {
      "cell_type": "code",
      "metadata": {
        "id": "-OesLsBEYmQ6",
        "colab": {
          "base_uri": "https://localhost:8080/"
        },
        "outputId": "55b39d88-65df-4a41-f804-d92f8f48a35e"
      },
      "source": [
        "res = Counter(term_list)\n",
        "res.most_common(20)"
      ],
      "execution_count": 531,
      "outputs": [
        {
          "output_type": "execute_result",
          "data": {
            "text/plain": [
              "[('article', 1655),\n",
              " ('page', 1495),\n",
              " ('wikipedia', 1338),\n",
              " ('talk', 1171),\n",
              " ('please', 1038),\n",
              " ('ass', 986),\n",
              " ('would', 964),\n",
              " ('fuck', 907),\n",
              " ('one', 858),\n",
              " ('like', 836),\n",
              " ('dont', 780),\n",
              " ('also', 657),\n",
              " ('think', 630),\n",
              " ('see', 630),\n",
              " ('know', 595),\n",
              " ('im', 562),\n",
              " ('edit', 560),\n",
              " ('use', 549),\n",
              " ('articles', 549),\n",
              " ('people', 538)]"
            ]
          },
          "metadata": {
            "tags": []
          },
          "execution_count": 531
        }
      ]
    },
    {
      "cell_type": "markdown",
      "metadata": {
        "id": "jImM5VSpYmQ7"
      },
      "source": [
        "Contextual stop words - \"article\", \"page\", \"wikipedia\", \"talk\", \"articles\", \"pages\""
      ]
    },
    {
      "cell_type": "code",
      "metadata": {
        "id": "G66QXtBkYmQ7"
      },
      "source": [
        "stop_context = [\"article\", \"page\", \"wikipedia\", \"talk\", \"articles\", \"pages\"]"
      ],
      "execution_count": 532,
      "outputs": []
    },
    {
      "cell_type": "code",
      "metadata": {
        "id": "rnY8sbSnYmQ7"
      },
      "source": [
        "stop_final = stop_final + stop_context"
      ],
      "execution_count": 533,
      "outputs": []
    },
    {
      "cell_type": "code",
      "metadata": {
        "id": "b914cRgAYmQ7"
      },
      "source": [
        "comments_clean = [del_stop(sent) for sent in comment_tokens]"
      ],
      "execution_count": 534,
      "outputs": []
    },
    {
      "cell_type": "code",
      "metadata": {
        "id": "0gFZP7ZVYmQ7",
        "colab": {
          "base_uri": "https://localhost:8080/"
        },
        "outputId": "8ffe4bf4-d908-4e6b-881b-569e29200a42"
      },
      "source": [
        "comments_clean = [\" \".join(sent) for sent in comments_clean]\n",
        "comments_clean[:2]"
      ],
      "execution_count": 535,
      "outputs": [
        {
          "output_type": "execute_result",
          "data": {
            "text/plain": [
              "['barnstar defender wiki barnstar like edit kayastha lets form solidarity group malign subject matter propose folloing name group united intellectuals front kayastha ethinicty racist castist abuse uifkearca',\n",
              " 'seems unbalanced whatever said mathsci said far extreme unpleasant things mention others much greater frequency im happy reign thats youd like ruth told trying get mathsci pay attention stop uncivil would expect issue request mathsci intentionally unbalanced whatever reason please let know voluntarily close account move things like lot contribute way point contributing project editors administrative leave aggressively rude im good editor dont really deserve people riding ass every time try certain things ill happily leave hands drama-prone thats think best ludwigs2']"
            ]
          },
          "metadata": {
            "tags": []
          },
          "execution_count": 535
        }
      ]
    },
    {
      "cell_type": "markdown",
      "metadata": {
        "id": "FANgsOnaYmQ8"
      },
      "source": [
        "##### We'll apply this function later on the test set"
      ]
    },
    {
      "cell_type": "markdown",
      "metadata": {
        "id": "o2c8aamXYmQ-"
      },
      "source": [
        "### Separate X and Y and perform train test split, 70-30"
      ]
    },
    {
      "cell_type": "code",
      "metadata": {
        "scrolled": true,
        "id": "JxNatzGlYmQ-",
        "colab": {
          "base_uri": "https://localhost:8080/"
        },
        "outputId": "918fed42-5e36-4265-e8ae-f2942af4a2e9"
      },
      "source": [
        "len(comments_clean)"
      ],
      "execution_count": 536,
      "outputs": [
        {
          "output_type": "execute_result",
          "data": {
            "text/plain": [
              "5000"
            ]
          },
          "metadata": {
            "tags": []
          },
          "execution_count": 536
        }
      ]
    },
    {
      "cell_type": "code",
      "metadata": {
        "id": "irfGFleEYmQ_"
      },
      "source": [
        "X = comments_clean\n",
        "y = train0.toxic"
      ],
      "execution_count": 537,
      "outputs": []
    },
    {
      "cell_type": "markdown",
      "metadata": {
        "id": "1Znx8hXJYmQ_"
      },
      "source": [
        "Train test split"
      ]
    },
    {
      "cell_type": "code",
      "metadata": {
        "id": "joMo5QrSYmQ_"
      },
      "source": [
        "from sklearn.model_selection import train_test_split\n",
        "X_train, X_test, y_train, y_test = train_test_split(X, y, test_size = 0.30, random_state=42)"
      ],
      "execution_count": 538,
      "outputs": []
    },
    {
      "cell_type": "markdown",
      "metadata": {
        "id": "cjz-G5rqb8j5"
      },
      "source": [
        "# Build the Tokenizer"
      ]
    },
    {
      "cell_type": "code",
      "metadata": {
        "id": "ses9X-Rvb8j5"
      },
      "source": [
        "import tensorflow as tf"
      ],
      "execution_count": 539,
      "outputs": []
    },
    {
      "cell_type": "code",
      "metadata": {
        "id": "1m1Ntwnjb8j5"
      },
      "source": [
        "top_words = 10000 #Vocablury size\n",
        "t = tf.keras.preprocessing.text.Tokenizer(num_words=top_words) # num_words -> Vocablury size"
      ],
      "execution_count": 540,
      "outputs": []
    },
    {
      "cell_type": "code",
      "metadata": {
        "id": "_RvvZJw2b8j5"
      },
      "source": [
        "#Fit tokenizer with actual training data\n",
        "t.fit_on_texts(X_train)"
      ],
      "execution_count": 541,
      "outputs": []
    },
    {
      "cell_type": "code",
      "metadata": {
        "colab": {
          "base_uri": "https://localhost:8080/"
        },
        "id": "PY6KwVbub8j6",
        "outputId": "e75be9f7-a943-48e9-d296-f789e30d933e"
      },
      "source": [
        "#Vocabulary\n",
        "t.word_index"
      ],
      "execution_count": 542,
      "outputs": [
        {
          "output_type": "execute_result",
          "data": {
            "text/plain": [
              "{'ass': 1,\n",
              " 'fuck': 2,\n",
              " 'please': 3,\n",
              " 'would': 4,\n",
              " 'one': 5,\n",
              " 'like': 6,\n",
              " 'dont': 7,\n",
              " 'also': 8,\n",
              " 'name': 9,\n",
              " 'know': 10,\n",
              " 'think': 11,\n",
              " 'see': 12,\n",
              " 'edit': 13,\n",
              " 'im': 14,\n",
              " 'use': 15,\n",
              " 'may': 16,\n",
              " 'suck': 17,\n",
              " 'mexicans': 18,\n",
              " 'people': 19,\n",
              " 'time': 20,\n",
              " 'thanks': 21,\n",
              " 'user': 22,\n",
              " 'well': 23,\n",
              " 'even': 24,\n",
              " 'deletion': 25,\n",
              " 'information': 26,\n",
              " 'good': 27,\n",
              " 'make': 28,\n",
              " 'editing': 29,\n",
              " 'image': 30,\n",
              " 'get': 31,\n",
              " 'edits': 32,\n",
              " 'help': 33,\n",
              " 'could': 34,\n",
              " 'wp': 35,\n",
              " 'want': 36,\n",
              " 'ytmnd': 37,\n",
              " 'first': 38,\n",
              " 'thank': 39,\n",
              " 'gay': 40,\n",
              " 'way': 41,\n",
              " 'new': 42,\n",
              " 'sources': 43,\n",
              " 'really': 44,\n",
              " 'say': 45,\n",
              " 'need': 46,\n",
              " 'used': 47,\n",
              " 'many': 48,\n",
              " 'section': 49,\n",
              " 'deleted': 50,\n",
              " 'work': 51,\n",
              " 'go': 52,\n",
              " 'source': 53,\n",
              " 'find': 54,\n",
              " 'made': 55,\n",
              " 'right': 56,\n",
              " 'discussion': 57,\n",
              " 'take': 58,\n",
              " 'ive': 59,\n",
              " 'read': 60,\n",
              " 'since': 61,\n",
              " 'point': 62,\n",
              " 'youre': 63,\n",
              " 'look': 64,\n",
              " 'fucking': 65,\n",
              " 'still': 66,\n",
              " 'someone': 67,\n",
              " 'fact': 68,\n",
              " 'link': 69,\n",
              " 'add': 70,\n",
              " 'list': 71,\n",
              " 'two': 72,\n",
              " 'utc': 73,\n",
              " 'editors': 74,\n",
              " 'back': 75,\n",
              " 'feel': 76,\n",
              " 'much': 77,\n",
              " 'links': 78,\n",
              " 'content': 79,\n",
              " 'blocked': 80,\n",
              " 'something': 81,\n",
              " 'case': 82,\n",
              " 'policy': 83,\n",
              " 'free': 84,\n",
              " 'stop': 85,\n",
              " 'thats': 86,\n",
              " 'block': 87,\n",
              " 'doesnt': 88,\n",
              " 'without': 89,\n",
              " 'wiki': 90,\n",
              " 'note': 91,\n",
              " 'sure': 92,\n",
              " 'removed': 93,\n",
              " 'said': 94,\n",
              " 'never': 95,\n",
              " 'put': 96,\n",
              " 'history': 97,\n",
              " 'reason': 98,\n",
              " 'others': 99,\n",
              " 'personal': 100,\n",
              " '•': 101,\n",
              " 'added': 102,\n",
              " 'admins': 103,\n",
              " 'questions': 104,\n",
              " 'welcome': 105,\n",
              " 'comment': 106,\n",
              " 'going': 107,\n",
              " 'however': 108,\n",
              " 'keep': 109,\n",
              " 'didnt': 110,\n",
              " 'might': 111,\n",
              " 'better': 112,\n",
              " 'question': 113,\n",
              " 'speedy': 114,\n",
              " 'pro': 115,\n",
              " 'place': 116,\n",
              " 'thing': 117,\n",
              " 'done': 118,\n",
              " 'ill': 119,\n",
              " 'another': 120,\n",
              " 'ask': 121,\n",
              " 'things': 122,\n",
              " 'vandalism': 123,\n",
              " 'using': 124,\n",
              " 'remove': 125,\n",
              " 'actually': 126,\n",
              " 'person': 127,\n",
              " 'comments': 128,\n",
              " 'hope': 129,\n",
              " 'sorry': 130,\n",
              " 'though': 131,\n",
              " 'rather': 132,\n",
              " 'subject': 133,\n",
              " 'anything': 134,\n",
              " '2': 135,\n",
              " 'consensus': 136,\n",
              " 'tag': 137,\n",
              " 'best': 138,\n",
              " 'fair': 139,\n",
              " 'believe': 140,\n",
              " 'us': 141,\n",
              " 'wrong': 142,\n",
              " 'style': 143,\n",
              " 'cant': 144,\n",
              " 'let': 145,\n",
              " 'seems': 146,\n",
              " '—': 147,\n",
              " 'long': 148,\n",
              " 'issue': 149,\n",
              " '1': 150,\n",
              " 'shit': 151,\n",
              " 'making': 152,\n",
              " 'bastard': 153,\n",
              " 'opinion': 154,\n",
              " 'understand': 155,\n",
              " 'little': 156,\n",
              " 'ip': 157,\n",
              " 'anyone': 158,\n",
              " 'years': 159,\n",
              " 'users': 160,\n",
              " 'nothing': 161,\n",
              " 'non': 162,\n",
              " 'hanibalyoure': 163,\n",
              " 'assad': 164,\n",
              " 'mean': 165,\n",
              " 'delete': 166,\n",
              " 'hi': 167,\n",
              " 'show': 168,\n",
              " 'request': 169,\n",
              " 'material': 170,\n",
              " 'problem': 171,\n",
              " 'try': 172,\n",
              " 'eat': 173,\n",
              " 'different': 174,\n",
              " 'change': 175,\n",
              " 'agree': 176,\n",
              " 'english': 177,\n",
              " 'part': 178,\n",
              " 'trying': 179,\n",
              " 'editor': 180,\n",
              " 'enough': 181,\n",
              " 'far': 182,\n",
              " 'check': 183,\n",
              " 'already': 184,\n",
              " 'world': 185,\n",
              " 'states': 186,\n",
              " 'text': 187,\n",
              " 'reliable': 188,\n",
              " 'clearly': 189,\n",
              " 'war': 190,\n",
              " 'cocksucking': 191,\n",
              " 'either': 192,\n",
              " 'guidelines': 193,\n",
              " 'leave': 194,\n",
              " 'yes': 195,\n",
              " 'site': 196,\n",
              " 'top': 197,\n",
              " 'evidence': 198,\n",
              " 'media': 199,\n",
              " 'cunts': 200,\n",
              " 'references': 201,\n",
              " 'isnt': 202,\n",
              " 'great': 203,\n",
              " 'clear': 204,\n",
              " 'come': 205,\n",
              " '3': 206,\n",
              " 'original': 207,\n",
              " 'says': 208,\n",
              " 'continue': 209,\n",
              " 'etc': 210,\n",
              " 'lot': 211,\n",
              " 'ever': 212,\n",
              " 'encyclopedia': 213,\n",
              " 'adding': 214,\n",
              " 'given': 215,\n",
              " 'called': 216,\n",
              " 'several': 217,\n",
              " 'contributions': 218,\n",
              " 'around': 219,\n",
              " 'day': 220,\n",
              " 'example': 221,\n",
              " 'important': 222,\n",
              " 'needs': 223,\n",
              " 'reference': 224,\n",
              " 'got': 225,\n",
              " 'words': 226,\n",
              " 'related': 227,\n",
              " 'write': 228,\n",
              " 'instead': 229,\n",
              " 'notable': 230,\n",
              " 'found': 231,\n",
              " 'hello': 232,\n",
              " 'yet': 233,\n",
              " 'probably': 234,\n",
              " 'always': 235,\n",
              " 'simply': 236,\n",
              " 'every': 237,\n",
              " 'pov': 238,\n",
              " 'created': 239,\n",
              " 'thought': 240,\n",
              " 'version': 241,\n",
              " 'number': 242,\n",
              " 'least': 243,\n",
              " 'give': 244,\n",
              " 'appropriate': 245,\n",
              " 'true': 246,\n",
              " 'times': 247,\n",
              " 'images': 248,\n",
              " 'changes': 249,\n",
              " 'matter': 250,\n",
              " 'support': 251,\n",
              " 'id': 252,\n",
              " 'book': 253,\n",
              " 'three': 254,\n",
              " 'real': 255,\n",
              " 'post': 256,\n",
              " 'word': 257,\n",
              " 'research': 258,\n",
              " 'date': 259,\n",
              " 'mention': 260,\n",
              " 'saying': 261,\n",
              " 'claim': 262,\n",
              " 'view': 263,\n",
              " 'facts': 264,\n",
              " '’': 265,\n",
              " 'review': 266,\n",
              " 'based': 267,\n",
              " 'getting': 268,\n",
              " 'bit': 269,\n",
              " 'criteria': 270,\n",
              " 'revert': 271,\n",
              " 'consider': 272,\n",
              " 'admin': 273,\n",
              " 'group': 274,\n",
              " 'last': 275,\n",
              " 'maybe': 276,\n",
              " 'discuss': 277,\n",
              " 'state': 278,\n",
              " 'considered': 279,\n",
              " 'ban': 280,\n",
              " 'reverted': 281,\n",
              " 'written': 282,\n",
              " 'quite': 283,\n",
              " 'mentioned': 284,\n",
              " 'seem': 285,\n",
              " 'left': 286,\n",
              " 'summary': 287,\n",
              " 'rules': 288,\n",
              " 'title': 289,\n",
              " 'old': 290,\n",
              " 'statement': 291,\n",
              " 'less': 292,\n",
              " 'term': 293,\n",
              " 'account': 294,\n",
              " 'correct': 295,\n",
              " 'address': 296,\n",
              " 'tell': 297,\n",
              " 'perhaps': 298,\n",
              " 'general': 299,\n",
              " 'following': 300,\n",
              " 'whether': 301,\n",
              " 'idea': 302,\n",
              " 'listed': 303,\n",
              " 'second': 304,\n",
              " 'copyright': 305,\n",
              " 'message': 306,\n",
              " 'wasnt': 307,\n",
              " 'makes': 308,\n",
              " 'e': 309,\n",
              " 'hey': 310,\n",
              " 'life': 311,\n",
              " 'position': 312,\n",
              " 'notice': 313,\n",
              " 'color': 314,\n",
              " 'background': 315,\n",
              " 'united': 316,\n",
              " 'topic': 317,\n",
              " 'regarding': 318,\n",
              " 'include': 319,\n",
              " 'order': 320,\n",
              " 'wanted': 321,\n",
              " 'else': 322,\n",
              " 'course': 323,\n",
              " 'policies': 324,\n",
              " 'next': 325,\n",
              " 'kind': 326,\n",
              " 'file': 327,\n",
              " 'possible': 328,\n",
              " 'notability': 329,\n",
              " 'school': 330,\n",
              " 'taken': 331,\n",
              " 's': 332,\n",
              " 'man': 333,\n",
              " 'call': 334,\n",
              " 'explain': 335,\n",
              " 'theres': 336,\n",
              " 'c': 337,\n",
              " 'means': 338,\n",
              " 'suggest': 339,\n",
              " 'redirect': 340,\n",
              " 'answer': 341,\n",
              " 'wikipedias': 342,\n",
              " 'bad': 343,\n",
              " 'attack': 344,\n",
              " 'report': 345,\n",
              " 'provide': 346,\n",
              " 'category': 347,\n",
              " 'care': 348,\n",
              " 'anyway': 349,\n",
              " 'specific': 350,\n",
              " 'quote': 351,\n",
              " 'full': 352,\n",
              " 'seen': 353,\n",
              " 'attacks': 354,\n",
              " 'posted': 355,\n",
              " 'neutral': 356,\n",
              " 'year': 357,\n",
              " 'ok': 358,\n",
              " 'start': 359,\n",
              " 'sentence': 360,\n",
              " 'form': 361,\n",
              " 'template': 362,\n",
              " 'u': 363,\n",
              " 'whole': 364,\n",
              " 'ago': 365,\n",
              " 'issues': 366,\n",
              " '6': 367,\n",
              " 'z': 368,\n",
              " 'move': 369,\n",
              " '5': 370,\n",
              " 'happy': 371,\n",
              " 'website': 372,\n",
              " 'per': 373,\n",
              " 'story': 374,\n",
              " 'included': 375,\n",
              " '4': 376,\n",
              " 'contribs': 377,\n",
              " 'remember': 378,\n",
              " 'b': 379,\n",
              " 'short': 380,\n",
              " 'deleting': 381,\n",
              " 'learn': 382,\n",
              " 'known': 383,\n",
              " 'create': 384,\n",
              " 'certainly': 385,\n",
              " 'community': 386,\n",
              " 'company': 387,\n",
              " 'self': 388,\n",
              " 'jpg': 389,\n",
              " 'simple': 390,\n",
              " 'lead': 391,\n",
              " 'asked': 392,\n",
              " 'national': 393,\n",
              " 'claims': 394,\n",
              " 'including': 395,\n",
              " 'main': 396,\n",
              " 'edited': 397,\n",
              " 'stated': 398,\n",
              " 'wont': 399,\n",
              " 'changed': 400,\n",
              " 'useful': 401,\n",
              " 'nice': 402,\n",
              " 'names': 403,\n",
              " 'later': 404,\n",
              " 'started': 405,\n",
              " 'otherwise': 406,\n",
              " 'american': 407,\n",
              " 'band': 408,\n",
              " 'unless': 409,\n",
              " 'avoid': 410,\n",
              " 'writing': 411,\n",
              " 'four': 412,\n",
              " 'language': 413,\n",
              " 'placed': 414,\n",
              " 'official': 415,\n",
              " 'mother': 416,\n",
              " 'provided': 417,\n",
              " 'days': 418,\n",
              " 'a': 419,\n",
              " 'high': 420,\n",
              " '–': 421,\n",
              " 'according': 422,\n",
              " 'side': 423,\n",
              " 'youve': 424,\n",
              " 'mind': 425,\n",
              " 'yeah': 426,\n",
              " 'god': 427,\n",
              " 'big': 428,\n",
              " 'within': 429,\n",
              " 'reverting': 430,\n",
              " 're': 431,\n",
              " 'looks': 432,\n",
              " 'email': 433,\n",
              " 'appears': 434,\n",
              " 'relevant': 435,\n",
              " 'country': 436,\n",
              " 'particular': 437,\n",
              " 'proper': 438,\n",
              " 'interest': 439,\n",
              " 'news': 440,\n",
              " 'search': 441,\n",
              " 'sort': 442,\n",
              " 'happened': 443,\n",
              " 'sign': 444,\n",
              " 'i': 445,\n",
              " 'entry': 446,\n",
              " 'removing': 447,\n",
              " 'end': 448,\n",
              " 'points': 449,\n",
              " 'p': 450,\n",
              " 'saw': 451,\n",
              " 'stuff': 452,\n",
              " 'works': 453,\n",
              " 'exactly': 454,\n",
              " 'sense': 455,\n",
              " 'copy': 456,\n",
              " 'truth': 457,\n",
              " 'obviously': 458,\n",
              " 'npov': 459,\n",
              " 'sandbox': 460,\n",
              " 'came': 461,\n",
              " 'british': 462,\n",
              " 'rule': 463,\n",
              " 'currently': 464,\n",
              " 'na': 465,\n",
              " 'decide': 466,\n",
              " 'looking': 467,\n",
              " 'aware': 468,\n",
              " 'oh': 469,\n",
              " 'tried': 470,\n",
              " 'therefore': 471,\n",
              " 'picture': 472,\n",
              " 'wish': 473,\n",
              " 'away': 474,\n",
              " 'everyone': 475,\n",
              " 'similar': 476,\n",
              " 'web': 477,\n",
              " 'rationale': 478,\n",
              " 'members': 479,\n",
              " 'username': 480,\n",
              " 'wrote': 481,\n",
              " 'reply': 482,\n",
              " 'system': 483,\n",
              " 'play': 484,\n",
              " 'width': 485,\n",
              " 'response': 486,\n",
              " 'line': 487,\n",
              " 'guess': 488,\n",
              " 'current': 489,\n",
              " 'dispute': 490,\n",
              " 'went': 491,\n",
              " 'warning': 492,\n",
              " 'able': 493,\n",
              " 'allowed': 494,\n",
              " '7': 495,\n",
              " 'views': 496,\n",
              " 'interested': 497,\n",
              " 'statements': 498,\n",
              " 'hard': 499,\n",
              " 'act': 500,\n",
              " 'info': 501,\n",
              " 'havent': 502,\n",
              " 'standard': 503,\n",
              " 'recent': 504,\n",
              " 'uploaded': 505,\n",
              " 'completely': 506,\n",
              " 'needed': 507,\n",
              " 'whats': 508,\n",
              " 'fine': 509,\n",
              " 'future': 510,\n",
              " 'talk': 511,\n",
              " 'apparently': 512,\n",
              " 'description': 513,\n",
              " 'moved': 514,\n",
              " 'class': 515,\n",
              " 'previous': 516,\n",
              " 'various': 517,\n",
              " 'process': 518,\n",
              " 'government': 519,\n",
              " 'mr': 520,\n",
              " 'everything': 521,\n",
              " 'published': 522,\n",
              " 'alone': 523,\n",
              " 'proposed': 524,\n",
              " 'whatever': 525,\n",
              " 'working': 526,\n",
              " 'generally': 527,\n",
              " 'cited': 528,\n",
              " 'recently': 529,\n",
              " 'stay': 530,\n",
              " 'sock': 531,\n",
              " 'game': 532,\n",
              " 'align': 533,\n",
              " 'lets': 534,\n",
              " 'open': 535,\n",
              " 'single': 536,\n",
              " 'pretty': 537,\n",
              " 'love': 538,\n",
              " 'film': 539,\n",
              " 'regards': 540,\n",
              " 'russian': 541,\n",
              " 'de': 542,\n",
              " 'past': 543,\n",
              " 'books': 544,\n",
              " 'five': 545,\n",
              " 'false': 546,\n",
              " 'living': 547,\n",
              " 'improve': 548,\n",
              " 'tags': 549,\n",
              " 'public': 550,\n",
              " 'months': 551,\n",
              " 'live': 552,\n",
              " 'took': 553,\n",
              " 'penis': 554,\n",
              " 'due': 555,\n",
              " 'theory': 556,\n",
              " 'appear': 557,\n",
              " 'close': 558,\n",
              " 'reading': 559,\n",
              " 'result': 560,\n",
              " 'cheers': 561,\n",
              " 'manner': 562,\n",
              " 'cite': 563,\n",
              " 'faith': 564,\n",
              " 'available': 565,\n",
              " 'type': 566,\n",
              " 'family': 567,\n",
              " 'vandalize': 568,\n",
              " 'countries': 569,\n",
              " 'argument': 570,\n",
              " 'legal': 571,\n",
              " 'set': 572,\n",
              " 'talking': 573,\n",
              " 'automatically': 574,\n",
              " 'g': 575,\n",
              " 'james': 576,\n",
              " 'almost': 577,\n",
              " 'contributing': 578,\n",
              " 'fucker': 579,\n",
              " 'reasons': 580,\n",
              " 'respect': 581,\n",
              " 'entire': 582,\n",
              " 'cause': 583,\n",
              " 'science': 584,\n",
              " 'soon': 585,\n",
              " 'youd': 586,\n",
              " 'existing': 587,\n",
              " 'ones': 588,\n",
              " 'afd': 589,\n",
              " 'taking': 590,\n",
              " 'paragraph': 591,\n",
              " 'job': 592,\n",
              " 'youll': 593,\n",
              " 'violation': 594,\n",
              " 'thus': 595,\n",
              " 'attention': 596,\n",
              " 'exist': 597,\n",
              " 'uses': 598,\n",
              " 'explanation': 599,\n",
              " 'directly': 600,\n",
              " 'administrators': 601,\n",
              " 'google': 602,\n",
              " 'ireland': 603,\n",
              " 'arbitration': 604,\n",
              " 'often': 605,\n",
              " 'knowledge': 606,\n",
              " 'scientific': 607,\n",
              " 'accepted': 608,\n",
              " 'music': 609,\n",
              " 'happen': 610,\n",
              " 'sites': 611,\n",
              " 'border': 612,\n",
              " 'power': 613,\n",
              " 'small': 614,\n",
              " 'events': 615,\n",
              " 'major': 616,\n",
              " 'sourced': 617,\n",
              " 'com': 618,\n",
              " 'record': 619,\n",
              " 'biased': 620,\n",
              " 'actions': 621,\n",
              " 'bias': 622,\n",
              " 'banned': 623,\n",
              " 'although': 624,\n",
              " 'german': 625,\n",
              " 'posting': 626,\n",
              " 'goes': 627,\n",
              " 'personally': 628,\n",
              " 'multiple': 629,\n",
              " 'john': 630,\n",
              " 'week': 631,\n",
              " 'rights': 632,\n",
              " 'present': 633,\n",
              " '”': 634,\n",
              " 'indeed': 635,\n",
              " 'sometimes': 636,\n",
              " 'space': 637,\n",
              " 'quality': 638,\n",
              " 'th': 639,\n",
              " 'shouldnt': 640,\n",
              " 'helpful': 641,\n",
              " 'shoot': 642,\n",
              " 'problems': 643,\n",
              " 'necessary': 644,\n",
              " 'run': 645,\n",
              " 'arent': 646,\n",
              " 'creating': 647,\n",
              " 'size': 648,\n",
              " 'along': 649,\n",
              " 'difference': 650,\n",
              " 'period': 651,\n",
              " 'refer': 652,\n",
              " 'administrator': 653,\n",
              " 'hell': 654,\n",
              " '“': 655,\n",
              " 'status': 656,\n",
              " 'guy': 657,\n",
              " 'criticism': 658,\n",
              " 'large': 659,\n",
              " 'debate': 660,\n",
              " 'abuse': 661,\n",
              " 'subjects': 662,\n",
              " 'appreciate': 663,\n",
              " 'noticed': 664,\n",
              " 'party': 665,\n",
              " 'project': 666,\n",
              " 'basically': 667,\n",
              " 'today': 668,\n",
              " 'explaining': 669,\n",
              " 'south': 670,\n",
              " 'series': 671,\n",
              " 'hes': 672,\n",
              " 'white': 673,\n",
              " 'he': 674,\n",
              " 'born': 675,\n",
              " 'japanese': 676,\n",
              " 'nonsense': 677,\n",
              " 'enjoy': 678,\n",
              " 'license': 679,\n",
              " 'guys': 680,\n",
              " 'especially': 681,\n",
              " 'longer': 682,\n",
              " 'external': 683,\n",
              " 'templates': 684,\n",
              " 'online': 685,\n",
              " 'third': 686,\n",
              " 'law': 687,\n",
              " 'meet': 688,\n",
              " 'decided': 689,\n",
              " 'likely': 690,\n",
              " 'mistake': 691,\n",
              " 'prove': 692,\n",
              " 'vertical': 693,\n",
              " 'terms': 694,\n",
              " 'become': 695,\n",
              " 'earlier': 696,\n",
              " 'video': 697,\n",
              " 'messages': 698,\n",
              " 'anti': 699,\n",
              " 'certain': 700,\n",
              " 'curps': 701,\n",
              " 'awards': 702,\n",
              " 'freak': 703,\n",
              " 'wait': 704,\n",
              " 'context': 705,\n",
              " 'shows': 706,\n",
              " 'actual': 707,\n",
              " 'neither': 708,\n",
              " 'tildes': 709,\n",
              " 'manual': 710,\n",
              " 'civil': 711,\n",
              " 'error': 712,\n",
              " 'contest': 713,\n",
              " 'arguments': 714,\n",
              " 'persons': 715,\n",
              " 'human': 716,\n",
              " 'follow': 717,\n",
              " 'acceptable': 718,\n",
              " 'none': 719,\n",
              " 'gone': 720,\n",
              " 'situation': 721,\n",
              " 'gets': 722,\n",
              " 'advice': 723,\n",
              " 'controversy': 724,\n",
              " 'controversial': 725,\n",
              " 'uk': 726,\n",
              " 'told': 727,\n",
              " 'political': 728,\n",
              " 'saddle': 729,\n",
              " 'couple': 730,\n",
              " 'opinions': 731,\n",
              " 'numbers': 732,\n",
              " 'specifically': 733,\n",
              " 'reported': 734,\n",
              " 'involved': 735,\n",
              " 'blocking': 736,\n",
              " 'field': 737,\n",
              " 'definition': 738,\n",
              " 'june': 739,\n",
              " 'test': 740,\n",
              " 'interesting': 741,\n",
              " 'song': 742,\n",
              " 'okay': 743,\n",
              " 'worked': 744,\n",
              " 'jews': 745,\n",
              " 'racist': 746,\n",
              " 'particularly': 747,\n",
              " 'fully': 748,\n",
              " 'upon': 749,\n",
              " 'produce': 750,\n",
              " 'upload': 751,\n",
              " 'valid': 752,\n",
              " 'guide': 753,\n",
              " 'red': 754,\n",
              " 'totally': 755,\n",
              " 'unblock': 756,\n",
              " 'contact': 757,\n",
              " 'bring': 758,\n",
              " 'sent': 759,\n",
              " 'behavior': 760,\n",
              " 'force': 761,\n",
              " 'results': 762,\n",
              " 'unban': 763,\n",
              " 'attempt': 764,\n",
              " 'level': 765,\n",
              " 'global': 766,\n",
              " 'towards': 767,\n",
              " 'warnings': 768,\n",
              " 'body': 769,\n",
              " 'x': 770,\n",
              " 'notes': 771,\n",
              " 'obvious': 772,\n",
              " 'usually': 773,\n",
              " 'common': 774,\n",
              " 'f5fffa': 775,\n",
              " 'pillars': 776,\n",
              " 'military': 777,\n",
              " 'standards': 778,\n",
              " '0': 779,\n",
              " 'stupid': 780,\n",
              " 'contribute': 781,\n",
              " 'addition': 782,\n",
              " 'rest': 783,\n",
              " 'anymore': 784,\n",
              " 'fix': 785,\n",
              " 'discussed': 786,\n",
              " 'blp': 787,\n",
              " 'indicate': 788,\n",
              " 'hate': 789,\n",
              " 'french': 790,\n",
              " 'commons': 791,\n",
              " 'deal': 792,\n",
              " 'april': 793,\n",
              " '9': 794,\n",
              " 'speak': 795,\n",
              " 'action': 796,\n",
              " 'jewish': 797,\n",
              " 'citation': 798,\n",
              " 'wouldnt': 799,\n",
              " 'basic': 800,\n",
              " 'limited': 801,\n",
              " 'financial': 802,\n",
              " 'calling': 803,\n",
              " 'and': 804,\n",
              " 'established': 805,\n",
              " 'meaning': 806,\n",
              " 'separate': 807,\n",
              " 'guideline': 808,\n",
              " 'cover': 809,\n",
              " 'release': 810,\n",
              " 'except': 811,\n",
              " 'disruptive': 812,\n",
              " 'proof': 813,\n",
              " 'sections': 814,\n",
              " 'code': 815,\n",
              " 'population': 816,\n",
              " 'suggestion': 817,\n",
              " 'doubt': 818,\n",
              " 'among': 819,\n",
              " 'october': 820,\n",
              " 'religion': 821,\n",
              " 'r': 822,\n",
              " 'together': 823,\n",
              " 'barnstar': 824,\n",
              " 'greek': 825,\n",
              " 'luck': 826,\n",
              " 'suggested': 827,\n",
              " 'ga': 828,\n",
              " 'forum': 829,\n",
              " 'the': 830,\n",
              " 'ignore': 831,\n",
              " 'creation': 832,\n",
              " 'business': 833,\n",
              " 'dear': 834,\n",
              " 'accounts': 835,\n",
              " 'conflict': 836,\n",
              " 'tutorial': 837,\n",
              " 'verifiability': 838,\n",
              " 'posts': 839,\n",
              " 'december': 840,\n",
              " 'characters': 841,\n",
              " 'copyrighted': 842,\n",
              " 'tagged': 843,\n",
              " 'seriously': 844,\n",
              " 'putting': 845,\n",
              " 'east': 846,\n",
              " 'assume': 847,\n",
              " 'click': 848,\n",
              " 'willing': 849,\n",
              " 'independent': 850,\n",
              " 'august': 851,\n",
              " 'vs': 852,\n",
              " 'final': 853,\n",
              " '8': 854,\n",
              " 'supported': 855,\n",
              " 'contribution': 856,\n",
              " 'stand': 857,\n",
              " 'comes': 858,\n",
              " 'absolutely': 859,\n",
              " 'readers': 860,\n",
              " 'dead': 861,\n",
              " 'ridiculous': 862,\n",
              " 'character': 863,\n",
              " 'break': 864,\n",
              " 'inappropriate': 865,\n",
              " 'minor': 866,\n",
              " 'historical': 867,\n",
              " 'citations': 868,\n",
              " 'internet': 869,\n",
              " 'places': 870,\n",
              " 'cases': 871,\n",
              " 'requesting': 872,\n",
              " 'album': 873,\n",
              " 'primary': 874,\n",
              " 'america': 875,\n",
              " 'gave': 876,\n",
              " 'definitely': 877,\n",
              " 'asking': 878,\n",
              " 'child': 879,\n",
              " 'linked': 880,\n",
              " 'discussions': 881,\n",
              " 'agenda': 882,\n",
              " 'leaving': 883,\n",
              " 'examples': 884,\n",
              " 'keeping': 885,\n",
              " 'direct': 886,\n",
              " 'mar': 887,\n",
              " 'complex': 888,\n",
              " 'gayvn': 889,\n",
              " 'you': 890,\n",
              " 'indian': 891,\n",
              " 'january': 892,\n",
              " 'social': 893,\n",
              " 'popular': 894,\n",
              " 'majority': 895,\n",
              " 'accept': 896,\n",
              " 'nazi': 897,\n",
              " 'resolution': 898,\n",
              " 'titles': 899,\n",
              " 'hesitate': 900,\n",
              " 'speedily': 901,\n",
              " 'versions': 902,\n",
              " 'accurate': 903,\n",
              " 'changing': 904,\n",
              " 'box': 905,\n",
              " 'respond': 906,\n",
              " 'data': 907,\n",
              " 'unsigned': 908,\n",
              " 'merely': 909,\n",
              " 'air': 910,\n",
              " 'disambiguation': 911,\n",
              " 'heard': 912,\n",
              " 'september': 913,\n",
              " 'coming': 914,\n",
              " 'disagree': 915,\n",
              " 'middle': 916,\n",
              " 'decision': 917,\n",
              " 'unfortunately': 918,\n",
              " 'page': 919,\n",
              " 'division': 920,\n",
              " 'f': 921,\n",
              " 'movie': 922,\n",
              " 'watch': 923,\n",
              " 'computer': 924,\n",
              " 'phrase': 925,\n",
              " 'concerned': 926,\n",
              " 'verifiable': 927,\n",
              " 'shown': 928,\n",
              " 'asian': 929,\n",
              " 'sound': 930,\n",
              " 'ad': 931,\n",
              " 'return': 932,\n",
              " 'solid': 933,\n",
              " 'control': 934,\n",
              " 'product': 935,\n",
              " 'redirects': 936,\n",
              " 'city': 937,\n",
              " 'israel': 938,\n",
              " 'race': 939,\n",
              " 'warned': 940,\n",
              " 'archive': 941,\n",
              " 'effect': 942,\n",
              " 'table': 943,\n",
              " 'quoted': 944,\n",
              " 'supposed': 945,\n",
              " 'concerns': 946,\n",
              " 'v': 947,\n",
              " 'named': 948,\n",
              " 'thinking': 949,\n",
              " 'event': 950,\n",
              " 'expect': 951,\n",
              " 'irrelevant': 952,\n",
              " 'wikipedian': 953,\n",
              " 'finding': 954,\n",
              " 'lies': 955,\n",
              " 'warring': 956,\n",
              " 'ahead': 957,\n",
              " 'ya': 958,\n",
              " 'death': 959,\n",
              " 'la': 960,\n",
              " 'lack': 961,\n",
              " 'award': 962,\n",
              " 'rfc': 963,\n",
              " 'telling': 964,\n",
              " 'theyre': 965,\n",
              " 'incident': 966,\n",
              " 'looked': 967,\n",
              " 'update': 968,\n",
              " 'hours': 969,\n",
              " 'men': 970,\n",
              " 'money': 971,\n",
              " 'concern': 972,\n",
              " 'hopefully': 973,\n",
              " 'christian': 974,\n",
              " 'pointed': 975,\n",
              " 'complete': 976,\n",
              " 'biographies': 977,\n",
              " 'allow': 978,\n",
              " 'worth': 979,\n",
              " 'revolution': 980,\n",
              " 'member': 981,\n",
              " 'germany': 982,\n",
              " 'north': 983,\n",
              " 'west': 984,\n",
              " 'clicking': 985,\n",
              " 'press': 986,\n",
              " 'team': 987,\n",
              " 'sockpuppet': 988,\n",
              " 'age': 989,\n",
              " 'properly': 990,\n",
              " 'hour': 991,\n",
              " 'administrative': 992,\n",
              " 'wing': 993,\n",
              " 'insert': 994,\n",
              " 'removal': 995,\n",
              " 'flag': 996,\n",
              " 'describe': 997,\n",
              " 'numerous': 998,\n",
              " 'efforts': 999,\n",
              " 'police': 1000,\n",
              " ...}"
            ]
          },
          "metadata": {
            "tags": []
          },
          "execution_count": 542
        }
      ]
    },
    {
      "cell_type": "markdown",
      "metadata": {
        "id": "gWLv8SAfb8j6"
      },
      "source": [
        "# Prepare Training and Test Data"
      ]
    },
    {
      "cell_type": "markdown",
      "metadata": {
        "id": "bP7wOGVFb8j6"
      },
      "source": [
        "Get the word index for each of the word in the review"
      ]
    },
    {
      "cell_type": "code",
      "metadata": {
        "colab": {
          "base_uri": "https://localhost:8080/"
        },
        "id": "RE0SSVZVb8j6",
        "outputId": "a3903f15-b413-44be-83f6-eccfe48101ff"
      },
      "source": [
        "X_train[0:1]"
      ],
      "execution_count": 543,
      "outputs": [
        {
          "output_type": "execute_result",
          "data": {
            "text/plain": [
              "['p.s.you really something life looked around userpage anda monastic deacon catholic church catholic church wow things work good luck maybe could even one day rise rank archdeacon keyn eynhore sorry forgot speak english jolz gutentag goyishe kup']"
            ]
          },
          "metadata": {
            "tags": []
          },
          "execution_count": 543
        }
      ]
    },
    {
      "cell_type": "code",
      "metadata": {
        "id": "iclo9f6ab8j6"
      },
      "source": [
        "X_train = t.texts_to_sequences(X_train)"
      ],
      "execution_count": 544,
      "outputs": []
    },
    {
      "cell_type": "code",
      "metadata": {
        "colab": {
          "base_uri": "https://localhost:8080/"
        },
        "id": "PihaC-CDb8j6",
        "outputId": "1e3161ea-4bb7-49d0-953c-627e4cbfc20f"
      },
      "source": [
        "X_train[0:1]"
      ],
      "execution_count": 545,
      "outputs": [
        {
          "output_type": "execute_result",
          "data": {
            "text/plain": [
              "[[450,\n",
              "  332,\n",
              "  890,\n",
              "  44,\n",
              "  81,\n",
              "  311,\n",
              "  967,\n",
              "  219,\n",
              "  1350,\n",
              "  8569,\n",
              "  8570,\n",
              "  8571,\n",
              "  1351,\n",
              "  1003,\n",
              "  1351,\n",
              "  1003,\n",
              "  1640,\n",
              "  122,\n",
              "  51,\n",
              "  27,\n",
              "  826,\n",
              "  276,\n",
              "  34,\n",
              "  24,\n",
              "  5,\n",
              "  220,\n",
              "  3802,\n",
              "  4542,\n",
              "  8572,\n",
              "  8573,\n",
              "  8574,\n",
              "  130,\n",
              "  1352,\n",
              "  795,\n",
              "  177,\n",
              "  8575,\n",
              "  8576,\n",
              "  8577,\n",
              "  8578]]"
            ]
          },
          "metadata": {
            "tags": []
          },
          "execution_count": 545
        }
      ]
    },
    {
      "cell_type": "code",
      "metadata": {
        "id": "ffAf1-Q7b8j6"
      },
      "source": [
        "X_test = t.texts_to_sequences(X_test)"
      ],
      "execution_count": 546,
      "outputs": []
    },
    {
      "cell_type": "markdown",
      "metadata": {
        "id": "g1En6b1Pb8j6"
      },
      "source": [
        "How many words in each review?"
      ]
    },
    {
      "cell_type": "markdown",
      "metadata": {
        "id": "z0BnHQeJb8j7"
      },
      "source": [
        "# Pad Sequences - Important"
      ]
    },
    {
      "cell_type": "code",
      "metadata": {
        "id": "XynS1YTAb8j7"
      },
      "source": [
        "#Define maximum number of words to consider in each review\n",
        "max_review_length = 100"
      ],
      "execution_count": 547,
      "outputs": []
    },
    {
      "cell_type": "code",
      "metadata": {
        "id": "ewWasfLvb8j7"
      },
      "source": [
        "#Pad training and test reviews\n",
        "X_train = tf.keras.preprocessing.sequence.pad_sequences(X_train,\n",
        "                                                        maxlen=max_review_length,\n",
        "                                                        padding='pre')\n",
        "X_test = tf.keras.preprocessing.sequence.pad_sequences(X_test, \n",
        "                                                       maxlen=max_review_length, \n",
        "                                                       padding='pre')"
      ],
      "execution_count": 548,
      "outputs": []
    },
    {
      "cell_type": "code",
      "metadata": {
        "colab": {
          "base_uri": "https://localhost:8080/"
        },
        "id": "Fx2oEORmb8j7",
        "outputId": "89ae304d-08fd-416a-dc12-a0d0a3016c1f"
      },
      "source": [
        "X_train.shape"
      ],
      "execution_count": 549,
      "outputs": [
        {
          "output_type": "execute_result",
          "data": {
            "text/plain": [
              "(3500, 100)"
            ]
          },
          "metadata": {
            "tags": []
          },
          "execution_count": 549
        }
      ]
    },
    {
      "cell_type": "code",
      "metadata": {
        "colab": {
          "base_uri": "https://localhost:8080/",
          "height": 252
        },
        "id": "fipikBv7b8j8",
        "outputId": "0e75594c-a396-4cea-c6e1-54a11dc486bc"
      },
      "source": [
        "pd.DataFrame(X_train).head()"
      ],
      "execution_count": 550,
      "outputs": [
        {
          "output_type": "execute_result",
          "data": {
            "text/html": [
              "<div>\n",
              "<style scoped>\n",
              "    .dataframe tbody tr th:only-of-type {\n",
              "        vertical-align: middle;\n",
              "    }\n",
              "\n",
              "    .dataframe tbody tr th {\n",
              "        vertical-align: top;\n",
              "    }\n",
              "\n",
              "    .dataframe thead th {\n",
              "        text-align: right;\n",
              "    }\n",
              "</style>\n",
              "<table border=\"1\" class=\"dataframe\">\n",
              "  <thead>\n",
              "    <tr style=\"text-align: right;\">\n",
              "      <th></th>\n",
              "      <th>0</th>\n",
              "      <th>1</th>\n",
              "      <th>2</th>\n",
              "      <th>3</th>\n",
              "      <th>4</th>\n",
              "      <th>5</th>\n",
              "      <th>6</th>\n",
              "      <th>7</th>\n",
              "      <th>8</th>\n",
              "      <th>9</th>\n",
              "      <th>10</th>\n",
              "      <th>11</th>\n",
              "      <th>12</th>\n",
              "      <th>13</th>\n",
              "      <th>14</th>\n",
              "      <th>15</th>\n",
              "      <th>16</th>\n",
              "      <th>17</th>\n",
              "      <th>18</th>\n",
              "      <th>19</th>\n",
              "      <th>20</th>\n",
              "      <th>21</th>\n",
              "      <th>22</th>\n",
              "      <th>23</th>\n",
              "      <th>24</th>\n",
              "      <th>25</th>\n",
              "      <th>26</th>\n",
              "      <th>27</th>\n",
              "      <th>28</th>\n",
              "      <th>29</th>\n",
              "      <th>30</th>\n",
              "      <th>31</th>\n",
              "      <th>32</th>\n",
              "      <th>33</th>\n",
              "      <th>34</th>\n",
              "      <th>35</th>\n",
              "      <th>36</th>\n",
              "      <th>37</th>\n",
              "      <th>38</th>\n",
              "      <th>39</th>\n",
              "      <th>...</th>\n",
              "      <th>60</th>\n",
              "      <th>61</th>\n",
              "      <th>62</th>\n",
              "      <th>63</th>\n",
              "      <th>64</th>\n",
              "      <th>65</th>\n",
              "      <th>66</th>\n",
              "      <th>67</th>\n",
              "      <th>68</th>\n",
              "      <th>69</th>\n",
              "      <th>70</th>\n",
              "      <th>71</th>\n",
              "      <th>72</th>\n",
              "      <th>73</th>\n",
              "      <th>74</th>\n",
              "      <th>75</th>\n",
              "      <th>76</th>\n",
              "      <th>77</th>\n",
              "      <th>78</th>\n",
              "      <th>79</th>\n",
              "      <th>80</th>\n",
              "      <th>81</th>\n",
              "      <th>82</th>\n",
              "      <th>83</th>\n",
              "      <th>84</th>\n",
              "      <th>85</th>\n",
              "      <th>86</th>\n",
              "      <th>87</th>\n",
              "      <th>88</th>\n",
              "      <th>89</th>\n",
              "      <th>90</th>\n",
              "      <th>91</th>\n",
              "      <th>92</th>\n",
              "      <th>93</th>\n",
              "      <th>94</th>\n",
              "      <th>95</th>\n",
              "      <th>96</th>\n",
              "      <th>97</th>\n",
              "      <th>98</th>\n",
              "      <th>99</th>\n",
              "    </tr>\n",
              "  </thead>\n",
              "  <tbody>\n",
              "    <tr>\n",
              "      <th>0</th>\n",
              "      <td>0</td>\n",
              "      <td>0</td>\n",
              "      <td>0</td>\n",
              "      <td>0</td>\n",
              "      <td>0</td>\n",
              "      <td>0</td>\n",
              "      <td>0</td>\n",
              "      <td>0</td>\n",
              "      <td>0</td>\n",
              "      <td>0</td>\n",
              "      <td>0</td>\n",
              "      <td>0</td>\n",
              "      <td>0</td>\n",
              "      <td>0</td>\n",
              "      <td>0</td>\n",
              "      <td>0</td>\n",
              "      <td>0</td>\n",
              "      <td>0</td>\n",
              "      <td>0</td>\n",
              "      <td>0</td>\n",
              "      <td>0</td>\n",
              "      <td>0</td>\n",
              "      <td>0</td>\n",
              "      <td>0</td>\n",
              "      <td>0</td>\n",
              "      <td>0</td>\n",
              "      <td>0</td>\n",
              "      <td>0</td>\n",
              "      <td>0</td>\n",
              "      <td>0</td>\n",
              "      <td>0</td>\n",
              "      <td>0</td>\n",
              "      <td>0</td>\n",
              "      <td>0</td>\n",
              "      <td>0</td>\n",
              "      <td>0</td>\n",
              "      <td>0</td>\n",
              "      <td>0</td>\n",
              "      <td>0</td>\n",
              "      <td>0</td>\n",
              "      <td>...</td>\n",
              "      <td>0</td>\n",
              "      <td>450</td>\n",
              "      <td>332</td>\n",
              "      <td>890</td>\n",
              "      <td>44</td>\n",
              "      <td>81</td>\n",
              "      <td>311</td>\n",
              "      <td>967</td>\n",
              "      <td>219</td>\n",
              "      <td>1350</td>\n",
              "      <td>8569</td>\n",
              "      <td>8570</td>\n",
              "      <td>8571</td>\n",
              "      <td>1351</td>\n",
              "      <td>1003</td>\n",
              "      <td>1351</td>\n",
              "      <td>1003</td>\n",
              "      <td>1640</td>\n",
              "      <td>122</td>\n",
              "      <td>51</td>\n",
              "      <td>27</td>\n",
              "      <td>826</td>\n",
              "      <td>276</td>\n",
              "      <td>34</td>\n",
              "      <td>24</td>\n",
              "      <td>5</td>\n",
              "      <td>220</td>\n",
              "      <td>3802</td>\n",
              "      <td>4542</td>\n",
              "      <td>8572</td>\n",
              "      <td>8573</td>\n",
              "      <td>8574</td>\n",
              "      <td>130</td>\n",
              "      <td>1352</td>\n",
              "      <td>795</td>\n",
              "      <td>177</td>\n",
              "      <td>8575</td>\n",
              "      <td>8576</td>\n",
              "      <td>8577</td>\n",
              "      <td>8578</td>\n",
              "    </tr>\n",
              "    <tr>\n",
              "      <th>1</th>\n",
              "      <td>0</td>\n",
              "      <td>0</td>\n",
              "      <td>0</td>\n",
              "      <td>0</td>\n",
              "      <td>0</td>\n",
              "      <td>0</td>\n",
              "      <td>0</td>\n",
              "      <td>0</td>\n",
              "      <td>0</td>\n",
              "      <td>0</td>\n",
              "      <td>0</td>\n",
              "      <td>0</td>\n",
              "      <td>0</td>\n",
              "      <td>0</td>\n",
              "      <td>0</td>\n",
              "      <td>0</td>\n",
              "      <td>0</td>\n",
              "      <td>0</td>\n",
              "      <td>0</td>\n",
              "      <td>0</td>\n",
              "      <td>0</td>\n",
              "      <td>0</td>\n",
              "      <td>0</td>\n",
              "      <td>0</td>\n",
              "      <td>0</td>\n",
              "      <td>0</td>\n",
              "      <td>0</td>\n",
              "      <td>0</td>\n",
              "      <td>0</td>\n",
              "      <td>0</td>\n",
              "      <td>0</td>\n",
              "      <td>0</td>\n",
              "      <td>0</td>\n",
              "      <td>0</td>\n",
              "      <td>0</td>\n",
              "      <td>0</td>\n",
              "      <td>0</td>\n",
              "      <td>0</td>\n",
              "      <td>0</td>\n",
              "      <td>0</td>\n",
              "      <td>...</td>\n",
              "      <td>0</td>\n",
              "      <td>0</td>\n",
              "      <td>0</td>\n",
              "      <td>0</td>\n",
              "      <td>0</td>\n",
              "      <td>0</td>\n",
              "      <td>0</td>\n",
              "      <td>0</td>\n",
              "      <td>0</td>\n",
              "      <td>0</td>\n",
              "      <td>0</td>\n",
              "      <td>0</td>\n",
              "      <td>0</td>\n",
              "      <td>0</td>\n",
              "      <td>0</td>\n",
              "      <td>0</td>\n",
              "      <td>0</td>\n",
              "      <td>0</td>\n",
              "      <td>0</td>\n",
              "      <td>0</td>\n",
              "      <td>0</td>\n",
              "      <td>0</td>\n",
              "      <td>0</td>\n",
              "      <td>0</td>\n",
              "      <td>0</td>\n",
              "      <td>0</td>\n",
              "      <td>0</td>\n",
              "      <td>0</td>\n",
              "      <td>0</td>\n",
              "      <td>0</td>\n",
              "      <td>0</td>\n",
              "      <td>0</td>\n",
              "      <td>0</td>\n",
              "      <td>0</td>\n",
              "      <td>0</td>\n",
              "      <td>144</td>\n",
              "      <td>144</td>\n",
              "      <td>384</td>\n",
              "      <td>138</td>\n",
              "      <td>1045</td>\n",
              "    </tr>\n",
              "    <tr>\n",
              "      <th>2</th>\n",
              "      <td>0</td>\n",
              "      <td>0</td>\n",
              "      <td>0</td>\n",
              "      <td>0</td>\n",
              "      <td>0</td>\n",
              "      <td>0</td>\n",
              "      <td>0</td>\n",
              "      <td>0</td>\n",
              "      <td>0</td>\n",
              "      <td>0</td>\n",
              "      <td>0</td>\n",
              "      <td>0</td>\n",
              "      <td>0</td>\n",
              "      <td>0</td>\n",
              "      <td>0</td>\n",
              "      <td>0</td>\n",
              "      <td>0</td>\n",
              "      <td>0</td>\n",
              "      <td>0</td>\n",
              "      <td>0</td>\n",
              "      <td>0</td>\n",
              "      <td>0</td>\n",
              "      <td>0</td>\n",
              "      <td>0</td>\n",
              "      <td>0</td>\n",
              "      <td>0</td>\n",
              "      <td>0</td>\n",
              "      <td>0</td>\n",
              "      <td>0</td>\n",
              "      <td>0</td>\n",
              "      <td>0</td>\n",
              "      <td>0</td>\n",
              "      <td>0</td>\n",
              "      <td>0</td>\n",
              "      <td>0</td>\n",
              "      <td>0</td>\n",
              "      <td>0</td>\n",
              "      <td>0</td>\n",
              "      <td>0</td>\n",
              "      <td>0</td>\n",
              "      <td>...</td>\n",
              "      <td>0</td>\n",
              "      <td>0</td>\n",
              "      <td>0</td>\n",
              "      <td>0</td>\n",
              "      <td>0</td>\n",
              "      <td>0</td>\n",
              "      <td>0</td>\n",
              "      <td>0</td>\n",
              "      <td>0</td>\n",
              "      <td>0</td>\n",
              "      <td>0</td>\n",
              "      <td>0</td>\n",
              "      <td>80</td>\n",
              "      <td>56</td>\n",
              "      <td>355</td>\n",
              "      <td>827</td>\n",
              "      <td>15</td>\n",
              "      <td>20</td>\n",
              "      <td>96</td>\n",
              "      <td>402</td>\n",
              "      <td>1527</td>\n",
              "      <td>458</td>\n",
              "      <td>131</td>\n",
              "      <td>3256</td>\n",
              "      <td>390</td>\n",
              "      <td>62</td>\n",
              "      <td>234</td>\n",
              "      <td>704</td>\n",
              "      <td>72</td>\n",
              "      <td>1046</td>\n",
              "      <td>56</td>\n",
              "      <td>131</td>\n",
              "      <td>44</td>\n",
              "      <td>88</td>\n",
              "      <td>250</td>\n",
              "      <td>1198</td>\n",
              "      <td>284</td>\n",
              "      <td>86</td>\n",
              "      <td>68</td>\n",
              "      <td>8579</td>\n",
              "    </tr>\n",
              "    <tr>\n",
              "      <th>3</th>\n",
              "      <td>0</td>\n",
              "      <td>0</td>\n",
              "      <td>0</td>\n",
              "      <td>0</td>\n",
              "      <td>0</td>\n",
              "      <td>0</td>\n",
              "      <td>0</td>\n",
              "      <td>0</td>\n",
              "      <td>0</td>\n",
              "      <td>0</td>\n",
              "      <td>0</td>\n",
              "      <td>0</td>\n",
              "      <td>0</td>\n",
              "      <td>0</td>\n",
              "      <td>0</td>\n",
              "      <td>0</td>\n",
              "      <td>0</td>\n",
              "      <td>0</td>\n",
              "      <td>0</td>\n",
              "      <td>0</td>\n",
              "      <td>0</td>\n",
              "      <td>0</td>\n",
              "      <td>0</td>\n",
              "      <td>0</td>\n",
              "      <td>0</td>\n",
              "      <td>0</td>\n",
              "      <td>0</td>\n",
              "      <td>0</td>\n",
              "      <td>0</td>\n",
              "      <td>0</td>\n",
              "      <td>0</td>\n",
              "      <td>0</td>\n",
              "      <td>0</td>\n",
              "      <td>0</td>\n",
              "      <td>0</td>\n",
              "      <td>0</td>\n",
              "      <td>0</td>\n",
              "      <td>0</td>\n",
              "      <td>0</td>\n",
              "      <td>0</td>\n",
              "      <td>...</td>\n",
              "      <td>266</td>\n",
              "      <td>3803</td>\n",
              "      <td>1130</td>\n",
              "      <td>377</td>\n",
              "      <td>38</td>\n",
              "      <td>1901</td>\n",
              "      <td>46</td>\n",
              "      <td>52</td>\n",
              "      <td>12</td>\n",
              "      <td>182</td>\n",
              "      <td>3</td>\n",
              "      <td>183</td>\n",
              "      <td>21</td>\n",
              "      <td>1095</td>\n",
              "      <td>208</td>\n",
              "      <td>5797</td>\n",
              "      <td>5799</td>\n",
              "      <td>2102</td>\n",
              "      <td>920</td>\n",
              "      <td>8580</td>\n",
              "      <td>796</td>\n",
              "      <td>1528</td>\n",
              "      <td>208</td>\n",
              "      <td>2299</td>\n",
              "      <td>4544</td>\n",
              "      <td>2299</td>\n",
              "      <td>920</td>\n",
              "      <td>204</td>\n",
              "      <td>2299</td>\n",
              "      <td>4544</td>\n",
              "      <td>2299</td>\n",
              "      <td>920</td>\n",
              "      <td>165</td>\n",
              "      <td>117</td>\n",
              "      <td>920</td>\n",
              "      <td>4545</td>\n",
              "      <td>274</td>\n",
              "      <td>4544</td>\n",
              "      <td>3</td>\n",
              "      <td>1004</td>\n",
              "    </tr>\n",
              "    <tr>\n",
              "      <th>4</th>\n",
              "      <td>0</td>\n",
              "      <td>0</td>\n",
              "      <td>0</td>\n",
              "      <td>0</td>\n",
              "      <td>0</td>\n",
              "      <td>0</td>\n",
              "      <td>0</td>\n",
              "      <td>0</td>\n",
              "      <td>0</td>\n",
              "      <td>0</td>\n",
              "      <td>0</td>\n",
              "      <td>0</td>\n",
              "      <td>0</td>\n",
              "      <td>0</td>\n",
              "      <td>0</td>\n",
              "      <td>0</td>\n",
              "      <td>0</td>\n",
              "      <td>0</td>\n",
              "      <td>0</td>\n",
              "      <td>0</td>\n",
              "      <td>0</td>\n",
              "      <td>0</td>\n",
              "      <td>0</td>\n",
              "      <td>0</td>\n",
              "      <td>0</td>\n",
              "      <td>0</td>\n",
              "      <td>0</td>\n",
              "      <td>0</td>\n",
              "      <td>0</td>\n",
              "      <td>0</td>\n",
              "      <td>0</td>\n",
              "      <td>0</td>\n",
              "      <td>0</td>\n",
              "      <td>0</td>\n",
              "      <td>0</td>\n",
              "      <td>0</td>\n",
              "      <td>0</td>\n",
              "      <td>0</td>\n",
              "      <td>0</td>\n",
              "      <td>0</td>\n",
              "      <td>...</td>\n",
              "      <td>0</td>\n",
              "      <td>0</td>\n",
              "      <td>0</td>\n",
              "      <td>0</td>\n",
              "      <td>0</td>\n",
              "      <td>0</td>\n",
              "      <td>0</td>\n",
              "      <td>0</td>\n",
              "      <td>0</td>\n",
              "      <td>0</td>\n",
              "      <td>0</td>\n",
              "      <td>0</td>\n",
              "      <td>0</td>\n",
              "      <td>0</td>\n",
              "      <td>0</td>\n",
              "      <td>0</td>\n",
              "      <td>0</td>\n",
              "      <td>0</td>\n",
              "      <td>0</td>\n",
              "      <td>0</td>\n",
              "      <td>0</td>\n",
              "      <td>0</td>\n",
              "      <td>0</td>\n",
              "      <td>0</td>\n",
              "      <td>0</td>\n",
              "      <td>0</td>\n",
              "      <td>0</td>\n",
              "      <td>3</td>\n",
              "      <td>85</td>\n",
              "      <td>209</td>\n",
              "      <td>568</td>\n",
              "      <td>80</td>\n",
              "      <td>29</td>\n",
              "      <td>3</td>\n",
              "      <td>968</td>\n",
              "      <td>3</td>\n",
              "      <td>968</td>\n",
              "      <td>5</td>\n",
              "      <td>3804</td>\n",
              "      <td>4546</td>\n",
              "    </tr>\n",
              "  </tbody>\n",
              "</table>\n",
              "<p>5 rows × 100 columns</p>\n",
              "</div>"
            ],
            "text/plain": [
              "   0   1   2   3   4   5   6   7   ...   92    93   94    95    96    97    98    99\n",
              "0   0   0   0   0   0   0   0   0  ...  130  1352  795   177  8575  8576  8577  8578\n",
              "1   0   0   0   0   0   0   0   0  ...    0     0    0   144   144   384   138  1045\n",
              "2   0   0   0   0   0   0   0   0  ...   44    88  250  1198   284    86    68  8579\n",
              "3   0   0   0   0   0   0   0   0  ...  165   117  920  4545   274  4544     3  1004\n",
              "4   0   0   0   0   0   0   0   0  ...   29     3  968     3   968     5  3804  4546\n",
              "\n",
              "[5 rows x 100 columns]"
            ]
          },
          "metadata": {
            "tags": []
          },
          "execution_count": 550
        }
      ]
    },
    {
      "cell_type": "code",
      "metadata": {
        "colab": {
          "base_uri": "https://localhost:8080/"
        },
        "id": "JVDroXrKb8j8",
        "outputId": "0678b541-70f5-420d-c26f-9047281eab56"
      },
      "source": [
        "X_test.shape"
      ],
      "execution_count": 551,
      "outputs": [
        {
          "output_type": "execute_result",
          "data": {
            "text/plain": [
              "(1500, 100)"
            ]
          },
          "metadata": {
            "tags": []
          },
          "execution_count": 551
        }
      ]
    },
    {
      "cell_type": "markdown",
      "metadata": {
        "id": "DVYMJc3rb8j8"
      },
      "source": [
        "# Build the Graph"
      ]
    },
    {
      "cell_type": "code",
      "metadata": {
        "id": "NKPNRmcNb8j8"
      },
      "source": [
        "#Initialize model\n",
        "tf.keras.backend.clear_session()\n",
        "model = tf.keras.Sequential()"
      ],
      "execution_count": 631,
      "outputs": []
    },
    {
      "cell_type": "markdown",
      "metadata": {
        "id": "Gy2YGV7wb8j8"
      },
      "source": [
        "Add Embedding layer\n",
        " - Embedding Layer Input = Batch_Size * Length of each review"
      ]
    },
    {
      "cell_type": "code",
      "metadata": {
        "id": "DiNqrFYsb8j8"
      },
      "source": [
        "model.add(tf.keras.layers.Embedding(top_words + 1, #Vocablury size\n",
        "                                    50, #Embedding size\n",
        "                                    input_length=max_review_length) #Number of words in each review\n",
        "          )"
      ],
      "execution_count": 632,
      "outputs": []
    },
    {
      "cell_type": "code",
      "metadata": {
        "colab": {
          "base_uri": "https://localhost:8080/"
        },
        "id": "VcRtHwqQb8j8",
        "outputId": "915169e2-dedd-4e3c-b262-2e2753ed3101"
      },
      "source": [
        "model.output"
      ],
      "execution_count": 633,
      "outputs": [
        {
          "output_type": "execute_result",
          "data": {
            "text/plain": [
              "<KerasTensor: shape=(None, 100, 50) dtype=float32 (created by layer 'embedding')>"
            ]
          },
          "metadata": {
            "tags": []
          },
          "execution_count": 633
        }
      ]
    },
    {
      "cell_type": "markdown",
      "metadata": {
        "id": "a-HZCp3Hb8j9"
      },
      "source": [
        "Embedding Layer Output - \n",
        "[Batch_Size , Review Length , Embedding_Size]"
      ]
    },
    {
      "cell_type": "markdown",
      "metadata": {
        "id": "syd6UuPzb8j9"
      },
      "source": [
        "Add LSTM Layer with 256 as RNN state size"
      ]
    },
    {
      "cell_type": "code",
      "metadata": {
        "id": "CPRnypW3b8j9"
      },
      "source": [
        "model.add(tf.keras.layers.Dropout(0.4))\n",
        "#model.add(tf.keras.layers.BatchNormalization())"
      ],
      "execution_count": 634,
      "outputs": []
    },
    {
      "cell_type": "code",
      "metadata": {
        "id": "bhwFnuccb8j9"
      },
      "source": [
        "model.add(tf.keras.layers.LSTM(256,return_sequences=True,  activation=\"tanh\", dropout=0.4))\n",
        "model.add(tf.keras.layers.GRU(256,return_sequences=True,  activation=\"tanh\", dropout=0.4))\n",
        "model.add(tf.keras.layers.GRU(256,return_sequences=True, activation=\"tanh\", dropout=0.4))\n",
        "model.add(tf.keras.layers.GRU(256,return_sequences=True, activation=\"tanh\", dropout=0.4))\n",
        "model.add(tf.keras.layers.GRU(256, activation=\"tanh\", dropout=0.4))"
      ],
      "execution_count": 635,
      "outputs": []
    },
    {
      "cell_type": "markdown",
      "metadata": {
        "id": "m2BtvOVMgwrU"
      },
      "source": [
        ""
      ]
    },
    {
      "cell_type": "code",
      "metadata": {
        "colab": {
          "base_uri": "https://localhost:8080/"
        },
        "id": "svWgOB3Kb8j9",
        "outputId": "9119f29d-423b-4d28-eb79-a29862c79cac"
      },
      "source": [
        "model.output"
      ],
      "execution_count": 636,
      "outputs": [
        {
          "output_type": "execute_result",
          "data": {
            "text/plain": [
              "<KerasTensor: shape=(None, 256) dtype=float32 (created by layer 'gru_3')>"
            ]
          },
          "metadata": {
            "tags": []
          },
          "execution_count": 636
        }
      ]
    },
    {
      "cell_type": "markdown",
      "metadata": {
        "id": "FQ2YtTLVb8j9"
      },
      "source": [
        "Use Dense layer for output layer"
      ]
    },
    {
      "cell_type": "code",
      "metadata": {
        "id": "V74_ErErb8j9"
      },
      "source": [
        "model.add(tf.keras.layers.Dropout(0.4))\n",
        "#model.add(tf.keras.layers.BatchNormalization())"
      ],
      "execution_count": 637,
      "outputs": []
    },
    {
      "cell_type": "code",
      "metadata": {
        "id": "haoGWailb8j9"
      },
      "source": [
        "model.add(tf.keras.layers.Dense(1,activation='sigmoid'))"
      ],
      "execution_count": 638,
      "outputs": []
    },
    {
      "cell_type": "code",
      "metadata": {
        "id": "6N9ZNnLVb8j9"
      },
      "source": [
        "#Compile the model\n",
        "adam_op = tf.keras.optimizers.Adam(learning_rate=0.002)\n",
        "model.compile(optimizer=adam_op,loss='binary_crossentropy',metrics=['accuracy',tf.keras.metrics.Recall()])"
      ],
      "execution_count": 639,
      "outputs": []
    },
    {
      "cell_type": "code",
      "metadata": {
        "colab": {
          "base_uri": "https://localhost:8080/"
        },
        "id": "gYNUdxSfb8j9",
        "outputId": "76a9619e-a0f7-44be-ac9d-564c635c43b6"
      },
      "source": [
        "model.summary()"
      ],
      "execution_count": 640,
      "outputs": [
        {
          "output_type": "stream",
          "text": [
            "Model: \"sequential\"\n",
            "_________________________________________________________________\n",
            "Layer (type)                 Output Shape              Param #   \n",
            "=================================================================\n",
            "embedding (Embedding)        (None, 100, 50)           500050    \n",
            "_________________________________________________________________\n",
            "dropout (Dropout)            (None, 100, 50)           0         \n",
            "_________________________________________________________________\n",
            "lstm (LSTM)                  (None, 100, 256)          314368    \n",
            "_________________________________________________________________\n",
            "gru (GRU)                    (None, 100, 256)          394752    \n",
            "_________________________________________________________________\n",
            "gru_1 (GRU)                  (None, 100, 256)          394752    \n",
            "_________________________________________________________________\n",
            "gru_2 (GRU)                  (None, 100, 256)          394752    \n",
            "_________________________________________________________________\n",
            "gru_3 (GRU)                  (None, 256)               394752    \n",
            "_________________________________________________________________\n",
            "dropout_1 (Dropout)          (None, 256)               0         \n",
            "_________________________________________________________________\n",
            "dense (Dense)                (None, 1)                 257       \n",
            "=================================================================\n",
            "Total params: 2,393,683\n",
            "Trainable params: 2,393,683\n",
            "Non-trainable params: 0\n",
            "_________________________________________________________________\n"
          ],
          "name": "stdout"
        }
      ]
    },
    {
      "cell_type": "markdown",
      "metadata": {
        "id": "46g6X2sbb8j9"
      },
      "source": [
        "# Execute the graph"
      ]
    },
    {
      "cell_type": "code",
      "metadata": {
        "scrolled": true,
        "colab": {
          "base_uri": "https://localhost:8080/"
        },
        "id": "9aVoLEZub8j9",
        "outputId": "7f31c4a8-6942-400f-d1d2-ab06afe0eee1"
      },
      "source": [
        "model.fit(X_train,y_train,\n",
        "          epochs=20,\n",
        "          batch_size=64,          \n",
        "          validation_data=(X_test, y_test))"
      ],
      "execution_count": 641,
      "outputs": [
        {
          "output_type": "stream",
          "text": [
            "Epoch 1/20\n",
            "55/55 [==============================] - 12s 91ms/step - loss: 0.3320 - accuracy: 0.9080 - recall: 0.0099 - val_loss: 0.2898 - val_accuracy: 0.9113 - val_recall: 0.0000e+00\n",
            "Epoch 2/20\n",
            "55/55 [==============================] - 3s 63ms/step - loss: 0.2102 - accuracy: 0.9300 - recall: 0.2599 - val_loss: 0.2115 - val_accuracy: 0.9360 - val_recall: 0.3008\n",
            "Epoch 3/20\n",
            "55/55 [==============================] - 3s 64ms/step - loss: 0.1099 - accuracy: 0.9649 - recall: 0.7138 - val_loss: 0.1658 - val_accuracy: 0.9507 - val_recall: 0.6316\n",
            "Epoch 4/20\n",
            "55/55 [==============================] - 4s 64ms/step - loss: 0.0679 - accuracy: 0.9800 - recall: 0.8553 - val_loss: 0.1878 - val_accuracy: 0.9427 - val_recall: 0.6316\n",
            "Epoch 5/20\n",
            "55/55 [==============================] - 4s 64ms/step - loss: 0.0693 - accuracy: 0.9786 - recall: 0.8618 - val_loss: 0.1861 - val_accuracy: 0.9427 - val_recall: 0.6165\n",
            "Epoch 6/20\n",
            "55/55 [==============================] - 4s 64ms/step - loss: 0.0344 - accuracy: 0.9900 - recall: 0.9309 - val_loss: 0.2035 - val_accuracy: 0.9473 - val_recall: 0.5414\n",
            "Epoch 7/20\n",
            "55/55 [==============================] - 4s 65ms/step - loss: 0.0270 - accuracy: 0.9917 - recall: 0.9474 - val_loss: 0.2442 - val_accuracy: 0.9333 - val_recall: 0.5414\n",
            "Epoch 8/20\n",
            "55/55 [==============================] - 4s 65ms/step - loss: 0.0234 - accuracy: 0.9949 - recall: 0.9638 - val_loss: 0.2913 - val_accuracy: 0.9473 - val_recall: 0.4962\n",
            "Epoch 9/20\n",
            "55/55 [==============================] - 4s 65ms/step - loss: 0.0166 - accuracy: 0.9940 - recall: 0.9605 - val_loss: 0.3028 - val_accuracy: 0.9367 - val_recall: 0.5489\n",
            "Epoch 10/20\n",
            "55/55 [==============================] - 4s 65ms/step - loss: 0.0152 - accuracy: 0.9951 - recall: 0.9737 - val_loss: 0.2546 - val_accuracy: 0.9460 - val_recall: 0.5940\n",
            "Epoch 11/20\n",
            "55/55 [==============================] - 4s 65ms/step - loss: 0.0123 - accuracy: 0.9974 - recall: 0.9803 - val_loss: 0.2378 - val_accuracy: 0.9473 - val_recall: 0.5865\n",
            "Epoch 12/20\n",
            "55/55 [==============================] - 4s 65ms/step - loss: 0.0100 - accuracy: 0.9980 - recall: 0.9836 - val_loss: 0.2797 - val_accuracy: 0.9420 - val_recall: 0.5263\n",
            "Epoch 13/20\n",
            "55/55 [==============================] - 4s 65ms/step - loss: 0.0111 - accuracy: 0.9977 - recall: 0.9803 - val_loss: 0.2828 - val_accuracy: 0.9413 - val_recall: 0.5639\n",
            "Epoch 14/20\n",
            "55/55 [==============================] - 4s 65ms/step - loss: 0.0166 - accuracy: 0.9946 - recall: 0.9737 - val_loss: 0.3681 - val_accuracy: 0.9353 - val_recall: 0.3684\n",
            "Epoch 15/20\n",
            "55/55 [==============================] - 4s 65ms/step - loss: 0.0107 - accuracy: 0.9971 - recall: 0.9770 - val_loss: 0.3942 - val_accuracy: 0.9147 - val_recall: 0.6842\n",
            "Epoch 16/20\n",
            "55/55 [==============================] - 4s 65ms/step - loss: 0.0141 - accuracy: 0.9960 - recall: 0.9704 - val_loss: 0.2672 - val_accuracy: 0.9213 - val_recall: 0.5564\n",
            "Epoch 17/20\n",
            "55/55 [==============================] - 4s 65ms/step - loss: 0.0115 - accuracy: 0.9971 - recall: 0.9901 - val_loss: 0.3144 - val_accuracy: 0.9393 - val_recall: 0.4436\n",
            "Epoch 18/20\n",
            "55/55 [==============================] - 4s 64ms/step - loss: 0.0056 - accuracy: 0.9983 - recall: 0.9901 - val_loss: 0.3582 - val_accuracy: 0.9387 - val_recall: 0.4962\n",
            "Epoch 19/20\n",
            "55/55 [==============================] - 4s 64ms/step - loss: 0.0270 - accuracy: 0.9931 - recall: 0.9474 - val_loss: 0.3221 - val_accuracy: 0.9240 - val_recall: 0.5714\n",
            "Epoch 20/20\n",
            "55/55 [==============================] - 4s 64ms/step - loss: 0.0277 - accuracy: 0.9929 - recall: 0.9539 - val_loss: 0.3707 - val_accuracy: 0.9280 - val_recall: 0.6541\n"
          ],
          "name": "stdout"
        },
        {
          "output_type": "execute_result",
          "data": {
            "text/plain": [
              "<tensorflow.python.keras.callbacks.History at 0x7f360106e2d0>"
            ]
          },
          "metadata": {
            "tags": []
          },
          "execution_count": 641
        }
      ]
    },
    {
      "cell_type": "code",
      "metadata": {
        "id": "2F48qT4HRPz4"
      },
      "source": [
        ""
      ],
      "execution_count": 609,
      "outputs": []
    }
  ]
}